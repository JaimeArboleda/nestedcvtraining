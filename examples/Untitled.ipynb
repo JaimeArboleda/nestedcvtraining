{
 "cells": [
  {
   "cell_type": "code",
   "execution_count": 11,
   "id": "721cf074",
   "metadata": {},
   "outputs": [],
   "source": [
    "import sys\n",
    "sys.path.append('..')\n",
    "from nestedcvtraining.utils.switch_case import SwitchCase\n",
    "import numpy as np\n",
    "from sklearn.decomposition import PCA\n",
    "from sklearn.feature_selection import SelectKBest, mutual_info_classif\n",
    "from imblearn.pipeline import Pipeline\n",
    "from sklearn.preprocessing import StandardScaler\n",
    "from nestedcvtraining.utils.pipes_and_transformers import IdentityTransformer\n",
    "from sklearn.decomposition import PCA\n",
    "from sklearn.ensemble import RandomForestClassifier\n",
    "from sklearn.linear_model import LogisticRegression\n",
    "from sklearn.metrics import roc_auc_score, make_scorer, fbeta_score\n",
    "from sklearn.feature_selection import SelectKBest, mutual_info_classif\n",
    "from skopt.space import Real, Integer, Categorical\n",
    "from xgboost import XGBClassifier\n",
    "from imblearn.pipeline import Pipeline\n",
    "from sklearn.preprocessing import StandardScaler\n",
    "from imblearn.over_sampling import SMOTE\n",
    "from nestedcvtraining.utils.pipes_and_transformers import IdentityTransformer\n",
    "from nestedcvtraining.api import find_best_model, OptionedTransformer\n",
    "from skopt import gbrt_minimize\n",
    "from sklearn.preprocessing import PolynomialFeatures, FunctionTransformer"
   ]
  },
  {
   "cell_type": "code",
   "execution_count": 16,
   "id": "eec7897e",
   "metadata": {},
   "outputs": [],
   "source": [
    "X = np.array([[1, 1, 2], [1, 2, 3], [4, 5, 6], [1, 2, 3], [4, 2, 8]])\n",
    "y = np.array([1, 2, 0, 1, 2]).reshape(-1, 1)\n",
    "\n",
    "feature_generation = SwitchCase(\n",
    "    cases=[\n",
    "        (\n",
    "            \"gen_1\",\n",
    "            PolynomialFeatures()\n",
    "        ),\n",
    "        (\n",
    "            \"gen_2\",\n",
    "            FunctionTransformer()\n",
    "        )\n",
    "    ],\n",
    "    switch=\"gen_1\")\n",
    "\n",
    "\n",
    "preprocessor = SwitchCase(\n",
    "    cases=[\n",
    "        (\n",
    "            \"prep_1\",\n",
    "            Pipeline([\n",
    "                (\"scale\", StandardScaler()), \n",
    "                (\"reduce_dims\", PCA(n_components=5))\n",
    "            ])\n",
    "        ),\n",
    "        (\n",
    "            \"prep_2\",\n",
    "            Pipeline([\n",
    "                (\"scale\", StandardScaler()), \n",
    "                (\"reduce_dims\", SelectKBest(mutual_info_classif, k=5)),\n",
    "            ])\n",
    "        )\n",
    "    ],\n",
    "    switch=\"prep_1\")\n",
    "\n",
    "model = SwitchCase(\n",
    "    cases=[\n",
    "        (\n",
    "            \"model_1\",\n",
    "            LogisticRegression()\n",
    "        ),\n",
    "        (\n",
    "            \"model_2\",\n",
    "            RandomForestClassifier()\n",
    "        )\n",
    "    ],\n",
    "    switch=\"model_1\")\n",
    "\n",
    "clf = Pipeline(\n",
    "    [(\"generator\", feature_generation), (\"preprocessor\", preprocessor), (\"model\", model)]\n",
    ")"
   ]
  },
  {
   "cell_type": "code",
   "execution_count": 17,
   "id": "7fcc81c0",
   "metadata": {},
   "outputs": [
    {
     "data": {
      "text/html": [
       "<style>#sk-container-id-3 {color: black;background-color: white;}#sk-container-id-3 pre{padding: 0;}#sk-container-id-3 div.sk-toggleable {background-color: white;}#sk-container-id-3 label.sk-toggleable__label {cursor: pointer;display: block;width: 100%;margin-bottom: 0;padding: 0.3em;box-sizing: border-box;text-align: center;}#sk-container-id-3 label.sk-toggleable__label-arrow:before {content: \"▸\";float: left;margin-right: 0.25em;color: #696969;}#sk-container-id-3 label.sk-toggleable__label-arrow:hover:before {color: black;}#sk-container-id-3 div.sk-estimator:hover label.sk-toggleable__label-arrow:before {color: black;}#sk-container-id-3 div.sk-toggleable__content {max-height: 0;max-width: 0;overflow: hidden;text-align: left;background-color: #f0f8ff;}#sk-container-id-3 div.sk-toggleable__content pre {margin: 0.2em;color: black;border-radius: 0.25em;background-color: #f0f8ff;}#sk-container-id-3 input.sk-toggleable__control:checked~div.sk-toggleable__content {max-height: 200px;max-width: 100%;overflow: auto;}#sk-container-id-3 input.sk-toggleable__control:checked~label.sk-toggleable__label-arrow:before {content: \"▾\";}#sk-container-id-3 div.sk-estimator input.sk-toggleable__control:checked~label.sk-toggleable__label {background-color: #d4ebff;}#sk-container-id-3 div.sk-label input.sk-toggleable__control:checked~label.sk-toggleable__label {background-color: #d4ebff;}#sk-container-id-3 input.sk-hidden--visually {border: 0;clip: rect(1px 1px 1px 1px);clip: rect(1px, 1px, 1px, 1px);height: 1px;margin: -1px;overflow: hidden;padding: 0;position: absolute;width: 1px;}#sk-container-id-3 div.sk-estimator {font-family: monospace;background-color: #f0f8ff;border: 1px dotted black;border-radius: 0.25em;box-sizing: border-box;margin-bottom: 0.5em;}#sk-container-id-3 div.sk-estimator:hover {background-color: #d4ebff;}#sk-container-id-3 div.sk-parallel-item::after {content: \"\";width: 100%;border-bottom: 1px solid gray;flex-grow: 1;}#sk-container-id-3 div.sk-label:hover label.sk-toggleable__label {background-color: #d4ebff;}#sk-container-id-3 div.sk-serial::before {content: \"\";position: absolute;border-left: 1px solid gray;box-sizing: border-box;top: 0;bottom: 0;left: 50%;z-index: 0;}#sk-container-id-3 div.sk-serial {display: flex;flex-direction: column;align-items: center;background-color: white;padding-right: 0.2em;padding-left: 0.2em;position: relative;}#sk-container-id-3 div.sk-item {position: relative;z-index: 1;}#sk-container-id-3 div.sk-parallel {display: flex;align-items: stretch;justify-content: center;background-color: white;position: relative;}#sk-container-id-3 div.sk-item::before, #sk-container-id-3 div.sk-parallel-item::before {content: \"\";position: absolute;border-left: 1px solid gray;box-sizing: border-box;top: 0;bottom: 0;left: 50%;z-index: -1;}#sk-container-id-3 div.sk-parallel-item {display: flex;flex-direction: column;z-index: 1;position: relative;background-color: white;}#sk-container-id-3 div.sk-parallel-item:first-child::after {align-self: flex-end;width: 50%;}#sk-container-id-3 div.sk-parallel-item:last-child::after {align-self: flex-start;width: 50%;}#sk-container-id-3 div.sk-parallel-item:only-child::after {width: 0;}#sk-container-id-3 div.sk-dashed-wrapped {border: 1px dashed gray;margin: 0 0.4em 0.5em 0.4em;box-sizing: border-box;padding-bottom: 0.4em;background-color: white;}#sk-container-id-3 div.sk-label label {font-family: monospace;font-weight: bold;display: inline-block;line-height: 1.2em;}#sk-container-id-3 div.sk-label-container {text-align: center;}#sk-container-id-3 div.sk-container {/* jupyter's `normalize.less` sets `[hidden] { display: none; }` but bootstrap.min.css set `[hidden] { display: none !important; }` so we also need the `!important` here to be able to override the default hidden behavior on the sphinx rendered scikit-learn.org. See: https://github.com/scikit-learn/scikit-learn/issues/21755 */display: inline-block !important;position: relative;}#sk-container-id-3 div.sk-text-repr-fallback {display: none;}</style><div id=\"sk-container-id-3\" class=\"sk-top-container\"><div class=\"sk-text-repr-fallback\"><pre>Pipeline(steps=[(&#x27;generator&#x27;,\n",
       "                 SwitchCase(cases=[(&#x27;gen_1&#x27;, PolynomialFeatures()),\n",
       "                                   (&#x27;gen_2&#x27;, FunctionTransformer())],\n",
       "                            switch=&#x27;gen_1&#x27;)),\n",
       "                (&#x27;preprocessor&#x27;,\n",
       "                 SwitchCase(cases=[(&#x27;prep_1&#x27;,\n",
       "                                    Pipeline(steps=[(&#x27;scale&#x27;, StandardScaler()),\n",
       "                                                    (&#x27;reduce_dims&#x27;,\n",
       "                                                     PCA(n_components=5))])),\n",
       "                                   (&#x27;prep_2&#x27;,\n",
       "                                    Pipeline(steps=[(&#x27;scale&#x27;, StandardScaler()),\n",
       "                                                    (&#x27;reduce_dims&#x27;,\n",
       "                                                     SelectKBest(k=5,\n",
       "                                                                 score_func=&lt;function mutual_info_classif at 0x7f3b77eccb80&gt;))]))],\n",
       "                            switch=&#x27;prep_1&#x27;)),\n",
       "                (&#x27;model&#x27;,\n",
       "                 SwitchCase(cases=[(&#x27;model_1&#x27;, LogisticRegression()),\n",
       "                                   (&#x27;model_2&#x27;, RandomForestClassifier())],\n",
       "                            switch=&#x27;model_1&#x27;))])</pre><b>In a Jupyter environment, please rerun this cell to show the HTML representation or trust the notebook. <br />On GitHub, the HTML representation is unable to render, please try loading this page with nbviewer.org.</b></div><div class=\"sk-container\" hidden><div class=\"sk-item sk-dashed-wrapped\"><div class=\"sk-label-container\"><div class=\"sk-label sk-toggleable\"><input class=\"sk-toggleable__control sk-hidden--visually\" id=\"sk-estimator-id-15\" type=\"checkbox\" ><label for=\"sk-estimator-id-15\" class=\"sk-toggleable__label sk-toggleable__label-arrow\">Pipeline</label><div class=\"sk-toggleable__content\"><pre>Pipeline(steps=[(&#x27;generator&#x27;,\n",
       "                 SwitchCase(cases=[(&#x27;gen_1&#x27;, PolynomialFeatures()),\n",
       "                                   (&#x27;gen_2&#x27;, FunctionTransformer())],\n",
       "                            switch=&#x27;gen_1&#x27;)),\n",
       "                (&#x27;preprocessor&#x27;,\n",
       "                 SwitchCase(cases=[(&#x27;prep_1&#x27;,\n",
       "                                    Pipeline(steps=[(&#x27;scale&#x27;, StandardScaler()),\n",
       "                                                    (&#x27;reduce_dims&#x27;,\n",
       "                                                     PCA(n_components=5))])),\n",
       "                                   (&#x27;prep_2&#x27;,\n",
       "                                    Pipeline(steps=[(&#x27;scale&#x27;, StandardScaler()),\n",
       "                                                    (&#x27;reduce_dims&#x27;,\n",
       "                                                     SelectKBest(k=5,\n",
       "                                                                 score_func=&lt;function mutual_info_classif at 0x7f3b77eccb80&gt;))]))],\n",
       "                            switch=&#x27;prep_1&#x27;)),\n",
       "                (&#x27;model&#x27;,\n",
       "                 SwitchCase(cases=[(&#x27;model_1&#x27;, LogisticRegression()),\n",
       "                                   (&#x27;model_2&#x27;, RandomForestClassifier())],\n",
       "                            switch=&#x27;model_1&#x27;))])</pre></div></div></div><div class=\"sk-serial\"><div class=\"sk-item sk-dashed-wrapped\"><div class=\"sk-label-container\"><div class=\"sk-label sk-toggleable\"><input class=\"sk-toggleable__control sk-hidden--visually\" id=\"sk-estimator-id-16\" type=\"checkbox\" ><label for=\"sk-estimator-id-16\" class=\"sk-toggleable__label sk-toggleable__label-arrow\">generator: SwitchCase</label><div class=\"sk-toggleable__content\"><pre>SwitchCase(cases=[(&#x27;gen_1&#x27;, PolynomialFeatures()),\n",
       "                  (&#x27;gen_2&#x27;, FunctionTransformer())],\n",
       "           switch=&#x27;gen_1&#x27;)</pre></div></div></div><div class=\"sk-parallel\"><div class=\"sk-parallel-item\"><div class=\"sk-item\"><div class=\"sk-label-container\"><div class=\"sk-label sk-toggleable\"><label>gen_1</label></div></div><div class=\"sk-serial\"><div class=\"sk-item\"><div class=\"sk-estimator sk-toggleable\"><input class=\"sk-toggleable__control sk-hidden--visually\" id=\"sk-estimator-id-17\" type=\"checkbox\" ><label for=\"sk-estimator-id-17\" class=\"sk-toggleable__label sk-toggleable__label-arrow\">PolynomialFeatures</label><div class=\"sk-toggleable__content\"><pre>PolynomialFeatures()</pre></div></div></div></div></div></div><div class=\"sk-parallel-item\"><div class=\"sk-item\"><div class=\"sk-label-container\"><div class=\"sk-label sk-toggleable\"><label>gen_2</label></div></div><div class=\"sk-serial\"><div class=\"sk-item\"><div class=\"sk-estimator sk-toggleable\"><input class=\"sk-toggleable__control sk-hidden--visually\" id=\"sk-estimator-id-18\" type=\"checkbox\" ><label for=\"sk-estimator-id-18\" class=\"sk-toggleable__label sk-toggleable__label-arrow\">FunctionTransformer</label><div class=\"sk-toggleable__content\"><pre>FunctionTransformer()</pre></div></div></div></div></div></div></div></div><div class=\"sk-item sk-dashed-wrapped\"><div class=\"sk-label-container\"><div class=\"sk-label sk-toggleable\"><input class=\"sk-toggleable__control sk-hidden--visually\" id=\"sk-estimator-id-19\" type=\"checkbox\" ><label for=\"sk-estimator-id-19\" class=\"sk-toggleable__label sk-toggleable__label-arrow\">preprocessor: SwitchCase</label><div class=\"sk-toggleable__content\"><pre>SwitchCase(cases=[(&#x27;prep_1&#x27;,\n",
       "                   Pipeline(steps=[(&#x27;scale&#x27;, StandardScaler()),\n",
       "                                   (&#x27;reduce_dims&#x27;, PCA(n_components=5))])),\n",
       "                  (&#x27;prep_2&#x27;,\n",
       "                   Pipeline(steps=[(&#x27;scale&#x27;, StandardScaler()),\n",
       "                                   (&#x27;reduce_dims&#x27;,\n",
       "                                    SelectKBest(k=5,\n",
       "                                                score_func=&lt;function mutual_info_classif at 0x7f3b77eccb80&gt;))]))],\n",
       "           switch=&#x27;prep_1&#x27;)</pre></div></div></div><div class=\"sk-parallel\"><div class=\"sk-parallel-item\"><div class=\"sk-item\"><div class=\"sk-label-container\"><div class=\"sk-label sk-toggleable\"><label>prep_1</label></div></div><div class=\"sk-serial\"><div class=\"sk-item\"><div class=\"sk-serial\"><div class=\"sk-item\"><div class=\"sk-estimator sk-toggleable\"><input class=\"sk-toggleable__control sk-hidden--visually\" id=\"sk-estimator-id-20\" type=\"checkbox\" ><label for=\"sk-estimator-id-20\" class=\"sk-toggleable__label sk-toggleable__label-arrow\">StandardScaler</label><div class=\"sk-toggleable__content\"><pre>StandardScaler()</pre></div></div></div><div class=\"sk-item\"><div class=\"sk-estimator sk-toggleable\"><input class=\"sk-toggleable__control sk-hidden--visually\" id=\"sk-estimator-id-21\" type=\"checkbox\" ><label for=\"sk-estimator-id-21\" class=\"sk-toggleable__label sk-toggleable__label-arrow\">PCA</label><div class=\"sk-toggleable__content\"><pre>PCA(n_components=5)</pre></div></div></div></div></div></div></div></div><div class=\"sk-parallel-item\"><div class=\"sk-item\"><div class=\"sk-label-container\"><div class=\"sk-label sk-toggleable\"><label>prep_2</label></div></div><div class=\"sk-serial\"><div class=\"sk-item\"><div class=\"sk-serial\"><div class=\"sk-item\"><div class=\"sk-estimator sk-toggleable\"><input class=\"sk-toggleable__control sk-hidden--visually\" id=\"sk-estimator-id-22\" type=\"checkbox\" ><label for=\"sk-estimator-id-22\" class=\"sk-toggleable__label sk-toggleable__label-arrow\">StandardScaler</label><div class=\"sk-toggleable__content\"><pre>StandardScaler()</pre></div></div></div><div class=\"sk-item\"><div class=\"sk-estimator sk-toggleable\"><input class=\"sk-toggleable__control sk-hidden--visually\" id=\"sk-estimator-id-23\" type=\"checkbox\" ><label for=\"sk-estimator-id-23\" class=\"sk-toggleable__label sk-toggleable__label-arrow\">SelectKBest</label><div class=\"sk-toggleable__content\"><pre>SelectKBest(k=5, score_func=&lt;function mutual_info_classif at 0x7f3b77eccb80&gt;)</pre></div></div></div></div></div></div></div></div></div></div><div class=\"sk-item sk-dashed-wrapped\"><div class=\"sk-label-container\"><div class=\"sk-label sk-toggleable\"><input class=\"sk-toggleable__control sk-hidden--visually\" id=\"sk-estimator-id-24\" type=\"checkbox\" ><label for=\"sk-estimator-id-24\" class=\"sk-toggleable__label sk-toggleable__label-arrow\">model: SwitchCase</label><div class=\"sk-toggleable__content\"><pre>SwitchCase(cases=[(&#x27;model_1&#x27;, LogisticRegression()),\n",
       "                  (&#x27;model_2&#x27;, RandomForestClassifier())],\n",
       "           switch=&#x27;model_1&#x27;)</pre></div></div></div><div class=\"sk-parallel\"><div class=\"sk-parallel-item\"><div class=\"sk-item\"><div class=\"sk-label-container\"><div class=\"sk-label sk-toggleable\"><label>model_1</label></div></div><div class=\"sk-serial\"><div class=\"sk-item\"><div class=\"sk-estimator sk-toggleable\"><input class=\"sk-toggleable__control sk-hidden--visually\" id=\"sk-estimator-id-25\" type=\"checkbox\" ><label for=\"sk-estimator-id-25\" class=\"sk-toggleable__label sk-toggleable__label-arrow\">LogisticRegression</label><div class=\"sk-toggleable__content\"><pre>LogisticRegression()</pre></div></div></div></div></div></div><div class=\"sk-parallel-item\"><div class=\"sk-item\"><div class=\"sk-label-container\"><div class=\"sk-label sk-toggleable\"><label>model_2</label></div></div><div class=\"sk-serial\"><div class=\"sk-item\"><div class=\"sk-estimator sk-toggleable\"><input class=\"sk-toggleable__control sk-hidden--visually\" id=\"sk-estimator-id-26\" type=\"checkbox\" ><label for=\"sk-estimator-id-26\" class=\"sk-toggleable__label sk-toggleable__label-arrow\">RandomForestClassifier</label><div class=\"sk-toggleable__content\"><pre>RandomForestClassifier()</pre></div></div></div></div></div></div></div></div></div></div></div></div>"
      ],
      "text/plain": [
       "Pipeline(steps=[('generator',\n",
       "                 SwitchCase(cases=[('gen_1', PolynomialFeatures()),\n",
       "                                   ('gen_2', FunctionTransformer())],\n",
       "                            switch='gen_1')),\n",
       "                ('preprocessor',\n",
       "                 SwitchCase(cases=[('prep_1',\n",
       "                                    Pipeline(steps=[('scale', StandardScaler()),\n",
       "                                                    ('reduce_dims',\n",
       "                                                     PCA(n_components=5))])),\n",
       "                                   ('prep_2',\n",
       "                                    Pipeline(steps=[('scale', StandardScaler()),\n",
       "                                                    ('reduce_dims',\n",
       "                                                     SelectKBest(k=5,\n",
       "                                                                 score_func=<function mutual_info_classif at 0x7f3b77eccb80>))]))],\n",
       "                            switch='prep_1')),\n",
       "                ('model',\n",
       "                 SwitchCase(cases=[('model_1', LogisticRegression()),\n",
       "                                   ('model_2', RandomForestClassifier())],\n",
       "                            switch='model_1'))])"
      ]
     },
     "execution_count": 17,
     "metadata": {},
     "output_type": "execute_result"
    }
   ],
   "source": [
    "clf"
   ]
  },
  {
   "cell_type": "code",
   "execution_count": 18,
   "id": "4dbcfb74",
   "metadata": {},
   "outputs": [
    {
     "data": {
      "text/plain": [
       "{'memory': None,\n",
       " 'steps': [('generator',\n",
       "   SwitchCase(cases=[('gen_1', PolynomialFeatures()),\n",
       "                     ('gen_2', FunctionTransformer())],\n",
       "              switch='gen_1')),\n",
       "  ('preprocessor',\n",
       "   SwitchCase(cases=[('prep_1',\n",
       "                      Pipeline(steps=[('scale', StandardScaler()),\n",
       "                                      ('reduce_dims', PCA(n_components=5))])),\n",
       "                     ('prep_2',\n",
       "                      Pipeline(steps=[('scale', StandardScaler()),\n",
       "                                      ('reduce_dims',\n",
       "                                       SelectKBest(k=5,\n",
       "                                                   score_func=<function mutual_info_classif at 0x7f3b77eccb80>))]))],\n",
       "              switch='prep_1')),\n",
       "  ('model',\n",
       "   SwitchCase(cases=[('model_1', LogisticRegression()),\n",
       "                     ('model_2', RandomForestClassifier())],\n",
       "              switch='model_1'))],\n",
       " 'verbose': False,\n",
       " 'generator': SwitchCase(cases=[('gen_1', PolynomialFeatures()),\n",
       "                   ('gen_2', FunctionTransformer())],\n",
       "            switch='gen_1'),\n",
       " 'preprocessor': SwitchCase(cases=[('prep_1',\n",
       "                    Pipeline(steps=[('scale', StandardScaler()),\n",
       "                                    ('reduce_dims', PCA(n_components=5))])),\n",
       "                   ('prep_2',\n",
       "                    Pipeline(steps=[('scale', StandardScaler()),\n",
       "                                    ('reduce_dims',\n",
       "                                     SelectKBest(k=5,\n",
       "                                                 score_func=<function mutual_info_classif at 0x7f3b77eccb80>))]))],\n",
       "            switch='prep_1'),\n",
       " 'model': SwitchCase(cases=[('model_1', LogisticRegression()),\n",
       "                   ('model_2', RandomForestClassifier())],\n",
       "            switch='model_1'),\n",
       " 'generator__cases': [('gen_1', PolynomialFeatures()),\n",
       "  ('gen_2', FunctionTransformer())],\n",
       " 'generator__switch': 'gen_1',\n",
       " 'generator__gen_1': PolynomialFeatures(),\n",
       " 'generator__gen_2': FunctionTransformer(),\n",
       " 'generator__gen_1__degree': 2,\n",
       " 'generator__gen_1__include_bias': True,\n",
       " 'generator__gen_1__interaction_only': False,\n",
       " 'generator__gen_1__order': 'C',\n",
       " 'generator__gen_2__accept_sparse': False,\n",
       " 'generator__gen_2__check_inverse': True,\n",
       " 'generator__gen_2__feature_names_out': None,\n",
       " 'generator__gen_2__func': None,\n",
       " 'generator__gen_2__inv_kw_args': None,\n",
       " 'generator__gen_2__inverse_func': None,\n",
       " 'generator__gen_2__kw_args': None,\n",
       " 'generator__gen_2__validate': False,\n",
       " 'preprocessor__cases': [('prep_1',\n",
       "   Pipeline(steps=[('scale', StandardScaler()),\n",
       "                   ('reduce_dims', PCA(n_components=5))])),\n",
       "  ('prep_2',\n",
       "   Pipeline(steps=[('scale', StandardScaler()),\n",
       "                   ('reduce_dims',\n",
       "                    SelectKBest(k=5,\n",
       "                                score_func=<function mutual_info_classif at 0x7f3b77eccb80>))]))],\n",
       " 'preprocessor__switch': 'prep_1',\n",
       " 'preprocessor__prep_1': Pipeline(steps=[('scale', StandardScaler()),\n",
       "                 ('reduce_dims', PCA(n_components=5))]),\n",
       " 'preprocessor__prep_2': Pipeline(steps=[('scale', StandardScaler()),\n",
       "                 ('reduce_dims',\n",
       "                  SelectKBest(k=5,\n",
       "                              score_func=<function mutual_info_classif at 0x7f3b77eccb80>))]),\n",
       " 'preprocessor__prep_1__memory': None,\n",
       " 'preprocessor__prep_1__steps': [('scale', StandardScaler()),\n",
       "  ('reduce_dims', PCA(n_components=5))],\n",
       " 'preprocessor__prep_1__verbose': False,\n",
       " 'preprocessor__prep_1__scale': StandardScaler(),\n",
       " 'preprocessor__prep_1__reduce_dims': PCA(n_components=5),\n",
       " 'preprocessor__prep_1__scale__copy': True,\n",
       " 'preprocessor__prep_1__scale__with_mean': True,\n",
       " 'preprocessor__prep_1__scale__with_std': True,\n",
       " 'preprocessor__prep_1__reduce_dims__copy': True,\n",
       " 'preprocessor__prep_1__reduce_dims__iterated_power': 'auto',\n",
       " 'preprocessor__prep_1__reduce_dims__n_components': 5,\n",
       " 'preprocessor__prep_1__reduce_dims__n_oversamples': 10,\n",
       " 'preprocessor__prep_1__reduce_dims__power_iteration_normalizer': 'auto',\n",
       " 'preprocessor__prep_1__reduce_dims__random_state': None,\n",
       " 'preprocessor__prep_1__reduce_dims__svd_solver': 'auto',\n",
       " 'preprocessor__prep_1__reduce_dims__tol': 0.0,\n",
       " 'preprocessor__prep_1__reduce_dims__whiten': False,\n",
       " 'preprocessor__prep_2__memory': None,\n",
       " 'preprocessor__prep_2__steps': [('scale', StandardScaler()),\n",
       "  ('reduce_dims',\n",
       "   SelectKBest(k=5, score_func=<function mutual_info_classif at 0x7f3b77eccb80>))],\n",
       " 'preprocessor__prep_2__verbose': False,\n",
       " 'preprocessor__prep_2__scale': StandardScaler(),\n",
       " 'preprocessor__prep_2__reduce_dims': SelectKBest(k=5, score_func=<function mutual_info_classif at 0x7f3b77eccb80>),\n",
       " 'preprocessor__prep_2__scale__copy': True,\n",
       " 'preprocessor__prep_2__scale__with_mean': True,\n",
       " 'preprocessor__prep_2__scale__with_std': True,\n",
       " 'preprocessor__prep_2__reduce_dims__k': 5,\n",
       " 'preprocessor__prep_2__reduce_dims__score_func': <function sklearn.feature_selection._mutual_info.mutual_info_classif(X, y, *, discrete_features='auto', n_neighbors=3, copy=True, random_state=None)>,\n",
       " 'model__cases': [('model_1', LogisticRegression()),\n",
       "  ('model_2', RandomForestClassifier())],\n",
       " 'model__switch': 'model_1',\n",
       " 'model__model_1': LogisticRegression(),\n",
       " 'model__model_2': RandomForestClassifier(),\n",
       " 'model__model_1__C': 1.0,\n",
       " 'model__model_1__class_weight': None,\n",
       " 'model__model_1__dual': False,\n",
       " 'model__model_1__fit_intercept': True,\n",
       " 'model__model_1__intercept_scaling': 1,\n",
       " 'model__model_1__l1_ratio': None,\n",
       " 'model__model_1__max_iter': 100,\n",
       " 'model__model_1__multi_class': 'auto',\n",
       " 'model__model_1__n_jobs': None,\n",
       " 'model__model_1__penalty': 'l2',\n",
       " 'model__model_1__random_state': None,\n",
       " 'model__model_1__solver': 'lbfgs',\n",
       " 'model__model_1__tol': 0.0001,\n",
       " 'model__model_1__verbose': 0,\n",
       " 'model__model_1__warm_start': False,\n",
       " 'model__model_2__bootstrap': True,\n",
       " 'model__model_2__ccp_alpha': 0.0,\n",
       " 'model__model_2__class_weight': None,\n",
       " 'model__model_2__criterion': 'gini',\n",
       " 'model__model_2__max_depth': None,\n",
       " 'model__model_2__max_features': 'sqrt',\n",
       " 'model__model_2__max_leaf_nodes': None,\n",
       " 'model__model_2__max_samples': None,\n",
       " 'model__model_2__min_impurity_decrease': 0.0,\n",
       " 'model__model_2__min_samples_leaf': 1,\n",
       " 'model__model_2__min_samples_split': 2,\n",
       " 'model__model_2__min_weight_fraction_leaf': 0.0,\n",
       " 'model__model_2__n_estimators': 100,\n",
       " 'model__model_2__n_jobs': None,\n",
       " 'model__model_2__oob_score': False,\n",
       " 'model__model_2__random_state': None,\n",
       " 'model__model_2__verbose': 0,\n",
       " 'model__model_2__warm_start': False}"
      ]
     },
     "execution_count": 18,
     "metadata": {},
     "output_type": "execute_result"
    }
   ],
   "source": [
    "clf.get_params()"
   ]
  },
  {
   "cell_type": "code",
   "execution_count": 4,
   "id": "f4d73a1e",
   "metadata": {},
   "outputs": [
    {
     "data": {
      "text/html": [
       "<style>#sk-container-id-2 {color: black;background-color: white;}#sk-container-id-2 pre{padding: 0;}#sk-container-id-2 div.sk-toggleable {background-color: white;}#sk-container-id-2 label.sk-toggleable__label {cursor: pointer;display: block;width: 100%;margin-bottom: 0;padding: 0.3em;box-sizing: border-box;text-align: center;}#sk-container-id-2 label.sk-toggleable__label-arrow:before {content: \"▸\";float: left;margin-right: 0.25em;color: #696969;}#sk-container-id-2 label.sk-toggleable__label-arrow:hover:before {color: black;}#sk-container-id-2 div.sk-estimator:hover label.sk-toggleable__label-arrow:before {color: black;}#sk-container-id-2 div.sk-toggleable__content {max-height: 0;max-width: 0;overflow: hidden;text-align: left;background-color: #f0f8ff;}#sk-container-id-2 div.sk-toggleable__content pre {margin: 0.2em;color: black;border-radius: 0.25em;background-color: #f0f8ff;}#sk-container-id-2 input.sk-toggleable__control:checked~div.sk-toggleable__content {max-height: 200px;max-width: 100%;overflow: auto;}#sk-container-id-2 input.sk-toggleable__control:checked~label.sk-toggleable__label-arrow:before {content: \"▾\";}#sk-container-id-2 div.sk-estimator input.sk-toggleable__control:checked~label.sk-toggleable__label {background-color: #d4ebff;}#sk-container-id-2 div.sk-label input.sk-toggleable__control:checked~label.sk-toggleable__label {background-color: #d4ebff;}#sk-container-id-2 input.sk-hidden--visually {border: 0;clip: rect(1px 1px 1px 1px);clip: rect(1px, 1px, 1px, 1px);height: 1px;margin: -1px;overflow: hidden;padding: 0;position: absolute;width: 1px;}#sk-container-id-2 div.sk-estimator {font-family: monospace;background-color: #f0f8ff;border: 1px dotted black;border-radius: 0.25em;box-sizing: border-box;margin-bottom: 0.5em;}#sk-container-id-2 div.sk-estimator:hover {background-color: #d4ebff;}#sk-container-id-2 div.sk-parallel-item::after {content: \"\";width: 100%;border-bottom: 1px solid gray;flex-grow: 1;}#sk-container-id-2 div.sk-label:hover label.sk-toggleable__label {background-color: #d4ebff;}#sk-container-id-2 div.sk-serial::before {content: \"\";position: absolute;border-left: 1px solid gray;box-sizing: border-box;top: 0;bottom: 0;left: 50%;z-index: 0;}#sk-container-id-2 div.sk-serial {display: flex;flex-direction: column;align-items: center;background-color: white;padding-right: 0.2em;padding-left: 0.2em;position: relative;}#sk-container-id-2 div.sk-item {position: relative;z-index: 1;}#sk-container-id-2 div.sk-parallel {display: flex;align-items: stretch;justify-content: center;background-color: white;position: relative;}#sk-container-id-2 div.sk-item::before, #sk-container-id-2 div.sk-parallel-item::before {content: \"\";position: absolute;border-left: 1px solid gray;box-sizing: border-box;top: 0;bottom: 0;left: 50%;z-index: -1;}#sk-container-id-2 div.sk-parallel-item {display: flex;flex-direction: column;z-index: 1;position: relative;background-color: white;}#sk-container-id-2 div.sk-parallel-item:first-child::after {align-self: flex-end;width: 50%;}#sk-container-id-2 div.sk-parallel-item:last-child::after {align-self: flex-start;width: 50%;}#sk-container-id-2 div.sk-parallel-item:only-child::after {width: 0;}#sk-container-id-2 div.sk-dashed-wrapped {border: 1px dashed gray;margin: 0 0.4em 0.5em 0.4em;box-sizing: border-box;padding-bottom: 0.4em;background-color: white;}#sk-container-id-2 div.sk-label label {font-family: monospace;font-weight: bold;display: inline-block;line-height: 1.2em;}#sk-container-id-2 div.sk-label-container {text-align: center;}#sk-container-id-2 div.sk-container {/* jupyter's `normalize.less` sets `[hidden] { display: none; }` but bootstrap.min.css set `[hidden] { display: none !important; }` so we also need the `!important` here to be able to override the default hidden behavior on the sphinx rendered scikit-learn.org. See: https://github.com/scikit-learn/scikit-learn/issues/21755 */display: inline-block !important;position: relative;}#sk-container-id-2 div.sk-text-repr-fallback {display: none;}</style><div id=\"sk-container-id-2\" class=\"sk-top-container\"><div class=\"sk-text-repr-fallback\"><pre>SwitchCase(cases=[(&#x27;option_1&#x27;,\n",
       "                   Pipeline(steps=[(&#x27;scale&#x27;, StandardScaler()),\n",
       "                                   (&#x27;reduce_dims&#x27;, PCA(n_components=5))])),\n",
       "                  (&#x27;option_2&#x27;,\n",
       "                   Pipeline(steps=[(&#x27;scale&#x27;, StandardScaler()),\n",
       "                                   (&#x27;reduce_dims&#x27;,\n",
       "                                    SelectKBest(k=2,\n",
       "                                                score_func=&lt;function mutual_info_classif at 0x7f69751f8a60&gt;))])),\n",
       "                  (&#x27;option_3&#x27;,\n",
       "                   Pipeline(steps=[(&#x27;identity&#x27;,\n",
       "                                    &lt;nestedcvtraining.utils.pipes_and_transformers.IdentityTransformer object at 0x7f6974747c10&gt;)]))],\n",
       "           switch=&#x27;option_2&#x27;)</pre><b>In a Jupyter environment, please rerun this cell to show the HTML representation or trust the notebook. <br />On GitHub, the HTML representation is unable to render, please try loading this page with nbviewer.org.</b></div><div class=\"sk-container\" hidden><div class=\"sk-item sk-dashed-wrapped\"><div class=\"sk-label-container\"><div class=\"sk-label sk-toggleable\"><input class=\"sk-toggleable__control sk-hidden--visually\" id=\"sk-estimator-id-7\" type=\"checkbox\" ><label for=\"sk-estimator-id-7\" class=\"sk-toggleable__label sk-toggleable__label-arrow\">SwitchCase</label><div class=\"sk-toggleable__content\"><pre>SwitchCase(cases=[(&#x27;option_1&#x27;,\n",
       "                   Pipeline(steps=[(&#x27;scale&#x27;, StandardScaler()),\n",
       "                                   (&#x27;reduce_dims&#x27;, PCA(n_components=5))])),\n",
       "                  (&#x27;option_2&#x27;,\n",
       "                   Pipeline(steps=[(&#x27;scale&#x27;, StandardScaler()),\n",
       "                                   (&#x27;reduce_dims&#x27;,\n",
       "                                    SelectKBest(k=2,\n",
       "                                                score_func=&lt;function mutual_info_classif at 0x7f69751f8a60&gt;))])),\n",
       "                  (&#x27;option_3&#x27;,\n",
       "                   Pipeline(steps=[(&#x27;identity&#x27;,\n",
       "                                    &lt;nestedcvtraining.utils.pipes_and_transformers.IdentityTransformer object at 0x7f6974747c10&gt;)]))],\n",
       "           switch=&#x27;option_2&#x27;)</pre></div></div></div><div class=\"sk-parallel\"><div class=\"sk-parallel-item\"><div class=\"sk-item\"><div class=\"sk-label-container\"><div class=\"sk-label sk-toggleable\"><label>option_1</label></div></div><div class=\"sk-serial\"><div class=\"sk-item\"><div class=\"sk-serial\"><div class=\"sk-item\"><div class=\"sk-estimator sk-toggleable\"><input class=\"sk-toggleable__control sk-hidden--visually\" id=\"sk-estimator-id-8\" type=\"checkbox\" ><label for=\"sk-estimator-id-8\" class=\"sk-toggleable__label sk-toggleable__label-arrow\">StandardScaler</label><div class=\"sk-toggleable__content\"><pre>StandardScaler()</pre></div></div></div><div class=\"sk-item\"><div class=\"sk-estimator sk-toggleable\"><input class=\"sk-toggleable__control sk-hidden--visually\" id=\"sk-estimator-id-9\" type=\"checkbox\" ><label for=\"sk-estimator-id-9\" class=\"sk-toggleable__label sk-toggleable__label-arrow\">PCA</label><div class=\"sk-toggleable__content\"><pre>PCA(n_components=5)</pre></div></div></div></div></div></div></div></div><div class=\"sk-parallel-item\"><div class=\"sk-item\"><div class=\"sk-label-container\"><div class=\"sk-label sk-toggleable\"><label>option_2</label></div></div><div class=\"sk-serial\"><div class=\"sk-item\"><div class=\"sk-serial\"><div class=\"sk-item\"><div class=\"sk-estimator sk-toggleable\"><input class=\"sk-toggleable__control sk-hidden--visually\" id=\"sk-estimator-id-10\" type=\"checkbox\" ><label for=\"sk-estimator-id-10\" class=\"sk-toggleable__label sk-toggleable__label-arrow\">StandardScaler</label><div class=\"sk-toggleable__content\"><pre>StandardScaler()</pre></div></div></div><div class=\"sk-item\"><div class=\"sk-estimator sk-toggleable\"><input class=\"sk-toggleable__control sk-hidden--visually\" id=\"sk-estimator-id-11\" type=\"checkbox\" ><label for=\"sk-estimator-id-11\" class=\"sk-toggleable__label sk-toggleable__label-arrow\">SelectKBest</label><div class=\"sk-toggleable__content\"><pre>SelectKBest(k=2, score_func=&lt;function mutual_info_classif at 0x7f69751f8a60&gt;)</pre></div></div></div></div></div></div></div></div><div class=\"sk-parallel-item\"><div class=\"sk-item\"><div class=\"sk-label-container\"><div class=\"sk-label sk-toggleable\"><label>option_3</label></div></div><div class=\"sk-serial\"><div class=\"sk-item\"><div class=\"sk-serial\"><div class=\"sk-item\"><div class=\"sk-estimator sk-toggleable\"><input class=\"sk-toggleable__control sk-hidden--visually\" id=\"sk-estimator-id-12\" type=\"checkbox\" ><label for=\"sk-estimator-id-12\" class=\"sk-toggleable__label sk-toggleable__label-arrow\">IdentityTransformer</label><div class=\"sk-toggleable__content\"><pre>&lt;nestedcvtraining.utils.pipes_and_transformers.IdentityTransformer object at 0x7f6974747c10&gt;</pre></div></div></div></div></div></div></div></div></div></div></div></div>"
      ],
      "text/plain": [
       "SwitchCase(cases=[('option_1',\n",
       "                   Pipeline(steps=[('scale', StandardScaler()),\n",
       "                                   ('reduce_dims', PCA(n_components=5))])),\n",
       "                  ('option_2',\n",
       "                   Pipeline(steps=[('scale', StandardScaler()),\n",
       "                                   ('reduce_dims',\n",
       "                                    SelectKBest(k=2,\n",
       "                                                score_func=<function mutual_info_classif at 0x7f69751f8a60>))])),\n",
       "                  ('option_3',\n",
       "                   Pipeline(steps=[('identity',\n",
       "                                    <nestedcvtraining.utils.pipes_and_transformers.IdentityTransformer object at 0x7f6974747c10>)]))],\n",
       "           switch='option_2')"
      ]
     },
     "execution_count": 4,
     "metadata": {},
     "output_type": "execute_result"
    }
   ],
   "source": [
    "\"search_space\": [\n",
    "    Categorical([\"gen_1\", \"gen_2\"], name=\"generator__switch\"),\n",
    "    Categorical([\"prep_1\", \"prep_2\"], name=\"preprocessor__switch\"),\n",
    "    Categorical([\"model_1\", \"model_2\"], name=\"model__switch\"),\n",
    "    Integer(3, 10, name=\"preprocessor__prep_1__reduce_dims__n_components\"),\n",
    "    Integer(3, 10, name=\"preprocessor__prep_2__reduce_dims__k\"),\n",
    "    Integer(1, 3, name=\"generator__gen_1__degree\"),\n",
    "    Categorical([\"l1\", \"l2\"], name=\"model__model_1__penalty\"), \n",
    "    Integer(5, 15, name=\"model__model_2__max_depth\"),\n",
    "],\n"
   ]
  },
  {
   "cell_type": "code",
   "execution_count": 5,
   "id": "bfbb593d",
   "metadata": {},
   "outputs": [
    {
     "data": {
      "text/plain": [
       "'option_2'"
      ]
     },
     "execution_count": 5,
     "metadata": {},
     "output_type": "execute_result"
    }
   ],
   "source": [
    "sc.switch"
   ]
  },
  {
   "cell_type": "code",
   "execution_count": 6,
   "id": "d4e4f1ee",
   "metadata": {},
   "outputs": [
    {
     "name": "stderr",
     "output_type": "stream",
     "text": [
      "/home/jaime/projects/python/nestedcvtraining/venv/lib/python3.10/site-packages/sklearn/utils/validation.py:1111: DataConversionWarning: A column-vector y was passed when a 1d array was expected. Please change the shape of y to (n_samples, ), for example using ravel().\n",
      "  y = column_or_1d(y, warn=True)\n"
     ]
    },
    {
     "data": {
      "text/plain": [
       "array([[-0.81649658, -1.03209369],\n",
       "       [-0.81649658, -0.29488391],\n",
       "       [ 1.22474487,  1.91674543],\n",
       "       [-0.81649658, -0.29488391],\n",
       "       [ 1.22474487, -0.29488391]])"
      ]
     },
     "execution_count": 6,
     "metadata": {},
     "output_type": "execute_result"
    }
   ],
   "source": [
    "sc.fit_transform(X, y)"
   ]
  },
  {
   "cell_type": "code",
   "execution_count": 9,
   "id": "89a4e3f1",
   "metadata": {},
   "outputs": [
    {
     "data": {
      "text/html": [
       "<style>#sk-container-id-4 {color: black;background-color: white;}#sk-container-id-4 pre{padding: 0;}#sk-container-id-4 div.sk-toggleable {background-color: white;}#sk-container-id-4 label.sk-toggleable__label {cursor: pointer;display: block;width: 100%;margin-bottom: 0;padding: 0.3em;box-sizing: border-box;text-align: center;}#sk-container-id-4 label.sk-toggleable__label-arrow:before {content: \"▸\";float: left;margin-right: 0.25em;color: #696969;}#sk-container-id-4 label.sk-toggleable__label-arrow:hover:before {color: black;}#sk-container-id-4 div.sk-estimator:hover label.sk-toggleable__label-arrow:before {color: black;}#sk-container-id-4 div.sk-toggleable__content {max-height: 0;max-width: 0;overflow: hidden;text-align: left;background-color: #f0f8ff;}#sk-container-id-4 div.sk-toggleable__content pre {margin: 0.2em;color: black;border-radius: 0.25em;background-color: #f0f8ff;}#sk-container-id-4 input.sk-toggleable__control:checked~div.sk-toggleable__content {max-height: 200px;max-width: 100%;overflow: auto;}#sk-container-id-4 input.sk-toggleable__control:checked~label.sk-toggleable__label-arrow:before {content: \"▾\";}#sk-container-id-4 div.sk-estimator input.sk-toggleable__control:checked~label.sk-toggleable__label {background-color: #d4ebff;}#sk-container-id-4 div.sk-label input.sk-toggleable__control:checked~label.sk-toggleable__label {background-color: #d4ebff;}#sk-container-id-4 input.sk-hidden--visually {border: 0;clip: rect(1px 1px 1px 1px);clip: rect(1px, 1px, 1px, 1px);height: 1px;margin: -1px;overflow: hidden;padding: 0;position: absolute;width: 1px;}#sk-container-id-4 div.sk-estimator {font-family: monospace;background-color: #f0f8ff;border: 1px dotted black;border-radius: 0.25em;box-sizing: border-box;margin-bottom: 0.5em;}#sk-container-id-4 div.sk-estimator:hover {background-color: #d4ebff;}#sk-container-id-4 div.sk-parallel-item::after {content: \"\";width: 100%;border-bottom: 1px solid gray;flex-grow: 1;}#sk-container-id-4 div.sk-label:hover label.sk-toggleable__label {background-color: #d4ebff;}#sk-container-id-4 div.sk-serial::before {content: \"\";position: absolute;border-left: 1px solid gray;box-sizing: border-box;top: 0;bottom: 0;left: 50%;z-index: 0;}#sk-container-id-4 div.sk-serial {display: flex;flex-direction: column;align-items: center;background-color: white;padding-right: 0.2em;padding-left: 0.2em;position: relative;}#sk-container-id-4 div.sk-item {position: relative;z-index: 1;}#sk-container-id-4 div.sk-parallel {display: flex;align-items: stretch;justify-content: center;background-color: white;position: relative;}#sk-container-id-4 div.sk-item::before, #sk-container-id-4 div.sk-parallel-item::before {content: \"\";position: absolute;border-left: 1px solid gray;box-sizing: border-box;top: 0;bottom: 0;left: 50%;z-index: -1;}#sk-container-id-4 div.sk-parallel-item {display: flex;flex-direction: column;z-index: 1;position: relative;background-color: white;}#sk-container-id-4 div.sk-parallel-item:first-child::after {align-self: flex-end;width: 50%;}#sk-container-id-4 div.sk-parallel-item:last-child::after {align-self: flex-start;width: 50%;}#sk-container-id-4 div.sk-parallel-item:only-child::after {width: 0;}#sk-container-id-4 div.sk-dashed-wrapped {border: 1px dashed gray;margin: 0 0.4em 0.5em 0.4em;box-sizing: border-box;padding-bottom: 0.4em;background-color: white;}#sk-container-id-4 div.sk-label label {font-family: monospace;font-weight: bold;display: inline-block;line-height: 1.2em;}#sk-container-id-4 div.sk-label-container {text-align: center;}#sk-container-id-4 div.sk-container {/* jupyter's `normalize.less` sets `[hidden] { display: none; }` but bootstrap.min.css set `[hidden] { display: none !important; }` so we also need the `!important` here to be able to override the default hidden behavior on the sphinx rendered scikit-learn.org. See: https://github.com/scikit-learn/scikit-learn/issues/21755 */display: inline-block !important;position: relative;}#sk-container-id-4 div.sk-text-repr-fallback {display: none;}</style><div id=\"sk-container-id-4\" class=\"sk-top-container\"><div class=\"sk-text-repr-fallback\"><pre>SwitchCase(cases=[(&#x27;option_1&#x27;,\n",
       "                   Pipeline(steps=[(&#x27;scale&#x27;, StandardScaler()),\n",
       "                                   (&#x27;reduce_dims&#x27;, PCA(n_components=2))])),\n",
       "                  (&#x27;option_2&#x27;,\n",
       "                   Pipeline(steps=[(&#x27;scale&#x27;, StandardScaler()),\n",
       "                                   (&#x27;reduce_dims&#x27;,\n",
       "                                    SelectKBest(k=2,\n",
       "                                                score_func=&lt;function mutual_info_classif at 0x7f69751f8a60&gt;))])),\n",
       "                  (&#x27;option_3&#x27;,\n",
       "                   Pipeline(steps=[(&#x27;identity&#x27;,\n",
       "                                    &lt;nestedcvtraining.utils.pipes_and_transformers.IdentityTransformer object at 0x7f6974747c10&gt;)]))],\n",
       "           switch=&#x27;option_1&#x27;)</pre><b>In a Jupyter environment, please rerun this cell to show the HTML representation or trust the notebook. <br />On GitHub, the HTML representation is unable to render, please try loading this page with nbviewer.org.</b></div><div class=\"sk-container\" hidden><div class=\"sk-item sk-dashed-wrapped\"><div class=\"sk-label-container\"><div class=\"sk-label sk-toggleable\"><input class=\"sk-toggleable__control sk-hidden--visually\" id=\"sk-estimator-id-19\" type=\"checkbox\" ><label for=\"sk-estimator-id-19\" class=\"sk-toggleable__label sk-toggleable__label-arrow\">SwitchCase</label><div class=\"sk-toggleable__content\"><pre>SwitchCase(cases=[(&#x27;option_1&#x27;,\n",
       "                   Pipeline(steps=[(&#x27;scale&#x27;, StandardScaler()),\n",
       "                                   (&#x27;reduce_dims&#x27;, PCA(n_components=2))])),\n",
       "                  (&#x27;option_2&#x27;,\n",
       "                   Pipeline(steps=[(&#x27;scale&#x27;, StandardScaler()),\n",
       "                                   (&#x27;reduce_dims&#x27;,\n",
       "                                    SelectKBest(k=2,\n",
       "                                                score_func=&lt;function mutual_info_classif at 0x7f69751f8a60&gt;))])),\n",
       "                  (&#x27;option_3&#x27;,\n",
       "                   Pipeline(steps=[(&#x27;identity&#x27;,\n",
       "                                    &lt;nestedcvtraining.utils.pipes_and_transformers.IdentityTransformer object at 0x7f6974747c10&gt;)]))],\n",
       "           switch=&#x27;option_1&#x27;)</pre></div></div></div><div class=\"sk-parallel\"><div class=\"sk-parallel-item\"><div class=\"sk-item\"><div class=\"sk-label-container\"><div class=\"sk-label sk-toggleable\"><label>option_1</label></div></div><div class=\"sk-serial\"><div class=\"sk-item\"><div class=\"sk-serial\"><div class=\"sk-item\"><div class=\"sk-estimator sk-toggleable\"><input class=\"sk-toggleable__control sk-hidden--visually\" id=\"sk-estimator-id-20\" type=\"checkbox\" ><label for=\"sk-estimator-id-20\" class=\"sk-toggleable__label sk-toggleable__label-arrow\">StandardScaler</label><div class=\"sk-toggleable__content\"><pre>StandardScaler()</pre></div></div></div><div class=\"sk-item\"><div class=\"sk-estimator sk-toggleable\"><input class=\"sk-toggleable__control sk-hidden--visually\" id=\"sk-estimator-id-21\" type=\"checkbox\" ><label for=\"sk-estimator-id-21\" class=\"sk-toggleable__label sk-toggleable__label-arrow\">PCA</label><div class=\"sk-toggleable__content\"><pre>PCA(n_components=2)</pre></div></div></div></div></div></div></div></div><div class=\"sk-parallel-item\"><div class=\"sk-item\"><div class=\"sk-label-container\"><div class=\"sk-label sk-toggleable\"><label>option_2</label></div></div><div class=\"sk-serial\"><div class=\"sk-item\"><div class=\"sk-serial\"><div class=\"sk-item\"><div class=\"sk-estimator sk-toggleable\"><input class=\"sk-toggleable__control sk-hidden--visually\" id=\"sk-estimator-id-22\" type=\"checkbox\" ><label for=\"sk-estimator-id-22\" class=\"sk-toggleable__label sk-toggleable__label-arrow\">StandardScaler</label><div class=\"sk-toggleable__content\"><pre>StandardScaler()</pre></div></div></div><div class=\"sk-item\"><div class=\"sk-estimator sk-toggleable\"><input class=\"sk-toggleable__control sk-hidden--visually\" id=\"sk-estimator-id-23\" type=\"checkbox\" ><label for=\"sk-estimator-id-23\" class=\"sk-toggleable__label sk-toggleable__label-arrow\">SelectKBest</label><div class=\"sk-toggleable__content\"><pre>SelectKBest(k=2, score_func=&lt;function mutual_info_classif at 0x7f69751f8a60&gt;)</pre></div></div></div></div></div></div></div></div><div class=\"sk-parallel-item\"><div class=\"sk-item\"><div class=\"sk-label-container\"><div class=\"sk-label sk-toggleable\"><label>option_3</label></div></div><div class=\"sk-serial\"><div class=\"sk-item\"><div class=\"sk-serial\"><div class=\"sk-item\"><div class=\"sk-estimator sk-toggleable\"><input class=\"sk-toggleable__control sk-hidden--visually\" id=\"sk-estimator-id-24\" type=\"checkbox\" ><label for=\"sk-estimator-id-24\" class=\"sk-toggleable__label sk-toggleable__label-arrow\">IdentityTransformer</label><div class=\"sk-toggleable__content\"><pre>&lt;nestedcvtraining.utils.pipes_and_transformers.IdentityTransformer object at 0x7f6974747c10&gt;</pre></div></div></div></div></div></div></div></div></div></div></div></div>"
      ],
      "text/plain": [
       "SwitchCase(cases=[('option_1',\n",
       "                   Pipeline(steps=[('scale', StandardScaler()),\n",
       "                                   ('reduce_dims', PCA(n_components=2))])),\n",
       "                  ('option_2',\n",
       "                   Pipeline(steps=[('scale', StandardScaler()),\n",
       "                                   ('reduce_dims',\n",
       "                                    SelectKBest(k=2,\n",
       "                                                score_func=<function mutual_info_classif at 0x7f69751f8a60>))])),\n",
       "                  ('option_3',\n",
       "                   Pipeline(steps=[('identity',\n",
       "                                    <nestedcvtraining.utils.pipes_and_transformers.IdentityTransformer object at 0x7f6974747c10>)]))],\n",
       "           switch='option_1')"
      ]
     },
     "execution_count": 9,
     "metadata": {},
     "output_type": "execute_result"
    }
   ],
   "source": [
    "sc.set_params(**{\n",
    "    \"switch\": \"option_1\",\n",
    "    \"option_1__reduce_dims__n_components\": 2\n",
    "})"
   ]
  },
  {
   "cell_type": "code",
   "execution_count": 10,
   "id": "2e86ca00",
   "metadata": {},
   "outputs": [
    {
     "data": {
      "text/plain": [
       "array([[-1.66437265,  0.17623789],\n",
       "       [-1.03343507, -0.22135093],\n",
       "       [ 2.15163112, -1.02284584],\n",
       "       [-1.03343507, -0.22135093],\n",
       "       [ 1.57961167,  1.28930982]])"
      ]
     },
     "execution_count": 10,
     "metadata": {},
     "output_type": "execute_result"
    }
   ],
   "source": [
    "sc.fit_transform(X, y)"
   ]
  },
  {
   "cell_type": "code",
   "execution_count": 13,
   "id": "af174513",
   "metadata": {},
   "outputs": [
    {
     "data": {
      "text/plain": [
       "array([[-1.66437265,  0.17623789],\n",
       "       [-1.03343507, -0.22135093],\n",
       "       [ 2.15163112, -1.02284584],\n",
       "       [-1.03343507, -0.22135093],\n",
       "       [ 1.57961167,  1.28930982]])"
      ]
     },
     "execution_count": 13,
     "metadata": {},
     "output_type": "execute_result"
    }
   ],
   "source": [
    "sc.cases[0][1].transform(X)"
   ]
  },
  {
   "cell_type": "code",
   "execution_count": 14,
   "id": "36b781a4",
   "metadata": {},
   "outputs": [
    {
     "data": {
      "text/plain": [
       "array([[-0.81649658, -1.03209369],\n",
       "       [-0.81649658, -0.29488391],\n",
       "       [ 1.22474487,  1.91674543],\n",
       "       [-0.81649658, -0.29488391],\n",
       "       [ 1.22474487, -0.29488391]])"
      ]
     },
     "execution_count": 14,
     "metadata": {},
     "output_type": "execute_result"
    }
   ],
   "source": [
    "sc.cases[1][1].transform(X)"
   ]
  },
  {
   "cell_type": "code",
   "execution_count": 22,
   "id": "4d616918",
   "metadata": {},
   "outputs": [
    {
     "name": "stdout",
     "output_type": "stream",
     "text": [
      "[-3367.69481873 -3489.99166356 -3926.62532842 -4576.78631641\n",
      " -4054.99821162]\n",
      "[0.36792736 0.35382342 0.35195324 0.37854664 0.34732403]\n"
     ]
    },
    {
     "name": "stderr",
     "output_type": "stream",
     "text": [
      "/home/jaime/projects/python/nestedcvtraining/venv/lib/python3.10/site-packages/sklearn/model_selection/_split.py:684: UserWarning: The least populated class in y has only 1 members, which is less than n_splits=5.\n",
      "  warnings.warn(\n"
     ]
    }
   ],
   "source": [
    "from sklearn import datasets, linear_model\n",
    "from sklearn.model_selection import cross_validate\n",
    "from sklearn.metrics import make_scorer\n",
    "from sklearn.metrics import confusion_matrix\n",
    "from sklearn.svm import LinearSVC\n",
    "from sklearn.model_selection import StratifiedKFold\n",
    "\n",
    "\n",
    "diabetes = datasets.load_diabetes()\n",
    "X = diabetes.data\n",
    "y = diabetes.target\n",
    "lasso = linear_model.Lasso()\n",
    "\n",
    "\n",
    "k_inner=5\n",
    "skip_inner_folds=[2, 4]\n",
    "def yield_splits(X, y, k, skip):\n",
    "    cv = StratifiedKFold(n_splits=k)\n",
    "    for cv_idx, (train_index, test_index) in enumerate(cv.split(X, y)):\n",
    "        if k not in skip:\n",
    "            yield (train_index, test_index)\n",
    "\n",
    "scores = cross_validate(lasso, X, y, cv=yield_splits(X, y, k_inner, skip_inner_folds),\n",
    "                        scoring=('r2', 'neg_mean_squared_error'),\n",
    "                        return_train_score=True, return_estimator=True)\n",
    "print(scores['test_neg_mean_squared_error'])\n",
    "\n",
    "print(scores['train_r2'])"
   ]
  },
  {
   "cell_type": "code",
   "execution_count": 25,
   "id": "a5c43afc",
   "metadata": {},
   "outputs": [
    {
     "data": {
      "text/plain": [
       "array([184.27447089, 112.55942997, 171.6788802 , 152.60857854,\n",
       "       130.07419597, 124.40085134, 116.13438608, 144.92789568,\n",
       "       172.89590806, 185.52167662, 101.84131202, 133.45001925,\n",
       "       132.41363209, 162.3466802 , 133.3018854 , 157.62922688,\n",
       "       185.74474638, 166.9620533 , 142.32832046, 141.49625406,\n",
       "       124.55199951, 124.5772406 , 134.66562185, 214.04394834,\n",
       "       159.92394224, 151.12217048, 108.63482956, 171.73134247,\n",
       "       141.12018488, 168.05900602, 163.30327787, 113.00127725,\n",
       "       205.65447798, 127.06693957, 108.87973275, 143.77314386,\n",
       "       178.48742382, 159.74485488, 204.53404317, 161.03524405,\n",
       "       153.37063872, 107.77644378, 145.26072127, 129.32144004,\n",
       "       189.74948166, 135.3649932 , 144.67026483, 115.74062843,\n",
       "       120.25204495, 167.76875438, 144.64657032, 159.93743487,\n",
       "       143.88032274, 139.93258305, 152.57146686, 113.56610215,\n",
       "       177.69904896, 109.99784169, 127.2260405 , 152.66437345,\n",
       "       136.12817217, 162.34811947, 126.64838326, 127.00424388,\n",
       "       135.68054259, 155.86860109, 144.16478523, 142.87682025,\n",
       "       135.55123768, 119.97540673, 106.89777161, 178.16422643,\n",
       "       172.83597078, 142.95629367, 156.73235964, 140.6223321 ,\n",
       "       158.8625594 , 115.56371781, 139.24815634, 118.35342956,\n",
       "       165.95275379, 140.83470099, 118.75117118, 150.98365109,\n",
       "       114.79829637, 171.49038807,  94.87463682, 161.87061894,\n",
       "       124.42924186, 125.58720129, 121.76508377, 182.11434074,\n",
       "       161.42325937, 113.73026394, 134.45192808, 126.18329153,\n",
       "       174.61214557, 189.25528823, 148.58039407, 129.62457906,\n",
       "       168.9584979 , 128.30963795, 162.52075277, 167.3379694 ,\n",
       "       163.4357742 , 135.18704461, 104.02311877, 157.47075639,\n",
       "       184.63073807, 142.10589467, 105.51930324, 147.4822131 ,\n",
       "       154.16759725, 173.17230438, 226.66091912, 175.12815813,\n",
       "       185.20947546, 167.85823565, 154.72052873, 140.35928144,\n",
       "       144.58568568, 166.00108756, 195.58948231, 171.17161469,\n",
       "       158.74442402, 170.3963446 , 101.81692277, 152.71158576,\n",
       "       117.98255486, 169.95149403, 202.21766284, 109.14613381,\n",
       "       140.2230859 , 110.17708459, 162.36589226, 188.07266535,\n",
       "        99.45779386, 181.32132684, 208.87581812, 194.53234577,\n",
       "       151.42858012, 182.63586141, 171.1424828 , 143.93438922,\n",
       "       173.080946  , 203.94334816, 181.30839703, 197.34198622,\n",
       "       150.31824542, 165.04802029, 177.68269852, 148.51948699,\n",
       "       161.93530025, 127.76325171, 163.39292012, 189.51854743,\n",
       "       142.81780016, 141.07413821, 115.08803939, 184.93060116,\n",
       "       114.92927153, 201.56427226, 154.59116395, 179.24852651,\n",
       "       150.28441381, 108.78368819, 106.04667614, 203.14429452,\n",
       "       195.42443638, 178.59805533, 117.72786624, 116.65647672,\n",
       "       201.85803901, 114.91032478, 159.79085594, 128.73912593,\n",
       "       161.40604553, 182.08446481, 135.63746892, 149.42174571,\n",
       "       160.19792524, 126.28209607, 161.1870552 , 144.49659536,\n",
       "       171.63265156, 163.26483503, 181.94913041, 106.36020987,\n",
       "       152.88975006, 119.93175711, 154.67815396, 136.60757196,\n",
       "       132.45797174, 158.73015031, 130.0193238 , 165.70235263,\n",
       "       123.76549931, 160.19547172, 154.72279569, 159.00104692,\n",
       "       121.05792776, 115.18563468, 176.78535883, 173.89829248,\n",
       "       157.08362932, 189.23617651, 165.70693844, 184.72916021,\n",
       "       171.70082778, 144.53046813, 150.44519345, 162.87105235,\n",
       "       155.30465391, 116.70382138, 127.75722268, 204.74920507,\n",
       "       181.31648288, 178.23598181, 126.08415517, 135.08129568,\n",
       "       109.44341374, 136.17252584, 143.97929982, 135.99662648,\n",
       "       111.79434576, 184.55638666, 122.28599203, 132.31675697,\n",
       "       138.20650723, 138.89113652, 193.44301935, 143.19155779,\n",
       "       158.77167035, 159.38624785, 187.45268777, 147.35681036,\n",
       "       167.49468631, 109.16305675, 153.8721242 , 177.79343554,\n",
       "       194.83443953, 141.69458621, 121.69190687, 122.54063188,\n",
       "       162.88370358, 123.97444874, 149.12237493, 114.6851999 ,\n",
       "       191.39489572, 198.15800954, 198.56734966, 218.7415137 ,\n",
       "       174.2533423 , 176.12714757, 210.33880844, 124.59835237,\n",
       "       224.95242282, 129.23183522, 131.33030511, 127.65817237,\n",
       "       126.15121067, 135.81140265, 218.09838228, 100.12600784,\n",
       "       147.62403957, 145.44352584, 104.5925206 , 155.524299  ,\n",
       "       199.60591914, 135.41753853, 170.60015728, 153.1780181 ,\n",
       "       148.76242158, 173.98667046, 147.97013146, 151.25981298,\n",
       "       180.94332035, 122.76164772, 134.97421372, 138.56534825,\n",
       "       166.11484816, 119.6949511 , 148.07379471, 111.86789102,\n",
       "       145.2751924 , 159.55758601, 122.29469446, 158.13625126,\n",
       "       128.04886654, 190.25263443, 193.27304351, 177.94568699,\n",
       "       125.81125646, 177.30055597, 120.25064587, 171.75576474,\n",
       "       111.25799624, 129.99349432, 127.49593721, 139.6679442 ,\n",
       "       192.96743268, 138.86765057, 176.06245666, 189.88062693,\n",
       "       132.77890301, 139.60364056, 142.28030203, 146.24092193,\n",
       "       116.42315974, 160.2452948 , 176.1081698 , 170.59955448,\n",
       "       132.73772592, 191.09381278, 165.77061438, 139.59796632,\n",
       "       178.40027326, 147.06418282, 158.9137108 , 163.81371551,\n",
       "       173.81911242, 203.01182705, 215.54323147, 185.41756119,\n",
       "       172.85989928, 194.97714506, 155.97365701, 200.9651117 ,\n",
       "       177.92620135, 125.11645188, 160.6372944 , 130.02592654,\n",
       "       213.84833729, 158.90991882, 115.88853941, 118.83817551,\n",
       "       208.03579598, 151.4252849 , 131.93428105, 159.35608615,\n",
       "       142.36082397, 172.86074226, 157.56344953, 148.47657655,\n",
       "       148.36876899, 150.17203358, 177.58705452, 138.69050468,\n",
       "       141.31889299, 111.1517747 , 200.12478287, 119.53826135,\n",
       "       115.98236905, 163.17017299, 191.85920166, 140.63996337,\n",
       "       131.02243875, 187.09929296,  95.0502327 , 160.13009322,\n",
       "       165.60562147, 131.80031914, 199.56481923, 147.65407074,\n",
       "       153.38362818, 144.56250611, 227.5569674 , 232.65720211,\n",
       "       176.76669214, 165.67151992, 110.66008137, 181.98127957,\n",
       "       139.61304616, 137.0052907 , 136.01772423, 162.73874683,\n",
       "       192.85946468, 160.00494096, 159.50888813, 125.26721649,\n",
       "       152.13176788, 109.80892915, 204.37281756, 135.73493843,\n",
       "       146.86633858, 139.77502615, 127.26517038, 128.99875201,\n",
       "       151.63837684, 139.44730678, 210.66805388,  98.16209113,\n",
       "       129.47239077, 121.67137536, 196.63799618, 160.60145376,\n",
       "       113.76263681, 159.4491151 , 169.75678646, 174.3746195 ,\n",
       "       165.73909731, 120.89928785, 142.31489658, 208.98128646,\n",
       "       170.51051503, 216.2912032 , 101.63753193, 176.58972093,\n",
       "       151.01938464, 157.99793327, 158.92051538, 161.85540086,\n",
       "       191.95310461, 142.05465795, 169.75290771, 158.51701004,\n",
       "       181.60084757, 167.28597534, 136.0404139 , 108.72448912,\n",
       "       128.96539843, 173.40575573, 197.52499321, 141.48459292,\n",
       "       162.94218174, 127.67821173, 149.47409332, 142.94062514,\n",
       "       209.88251789, 131.39963656, 124.82615535, 136.7789923 ,\n",
       "       190.02250588, 113.3209438 , 141.64954937, 131.50849259,\n",
       "       104.22054389, 171.21127904, 138.99354908, 134.46326626,\n",
       "       180.6498667 , 118.53216428])"
      ]
     },
     "execution_count": 25,
     "metadata": {},
     "output_type": "execute_result"
    }
   ],
   "source": [
    "scores[\"estimator\"][0].predict(X)"
   ]
  },
  {
   "cell_type": "code",
   "execution_count": 26,
   "id": "d73a29ef",
   "metadata": {},
   "outputs": [
    {
     "data": {
      "text/plain": [
       "array([184.27234683, 114.4688481 , 172.24487199, 155.40691065,\n",
       "       131.47037011, 126.43311326, 117.86447982, 144.66779104,\n",
       "       173.30634417, 187.87395952, 104.04031225, 133.30828748,\n",
       "       134.17774255, 164.44088408, 135.0242335 , 158.84073389,\n",
       "       186.3334869 , 167.70012659, 144.35263893, 143.92793504,\n",
       "       127.91760028, 125.2522011 , 135.27783032, 215.99638094,\n",
       "       160.46034331, 153.94074577, 111.63638909, 172.17436932,\n",
       "       144.36652292, 169.7070813 , 163.55308899, 116.7536236 ,\n",
       "       203.65184564, 129.46231234, 111.76164849, 147.2255315 ,\n",
       "       179.52734032, 162.2479056 , 203.95858093, 163.79264427,\n",
       "       154.91213222, 111.81427787, 147.06538359, 131.79156477,\n",
       "       190.05585303, 136.87226954, 146.8478434 , 119.61334048,\n",
       "       121.44868201, 169.65554765, 145.65663284, 160.49397597,\n",
       "       145.35285195, 139.99687824, 152.56098406, 115.63296126,\n",
       "       179.2578076 , 112.82372089, 129.63520802, 155.26824859,\n",
       "       137.44553788, 165.30722175, 127.47522259, 129.85155047,\n",
       "       138.10493592, 157.7008622 , 146.64857962, 144.78707364,\n",
       "       138.19426175, 121.71547327, 109.11171333, 177.20515296,\n",
       "       176.17777321, 144.86647794, 157.26907246, 143.40794296,\n",
       "       157.91390133, 117.82413689, 143.29371126, 119.9271452 ,\n",
       "       166.88848403, 143.24684004, 120.23880614, 152.73142964,\n",
       "       117.69006776, 170.48638605,  97.0705875 , 164.09225031,\n",
       "       127.40169699, 128.10060547, 123.21880205, 183.94808434,\n",
       "       161.36917902, 117.87863948, 135.79919676, 130.45676315,\n",
       "       176.13170788, 189.09388456, 150.2871575 , 132.67016343,\n",
       "       171.09262012, 129.23384348, 163.5026526 , 167.43682208,\n",
       "       162.27841213, 137.91848954, 106.98115107, 157.72142305,\n",
       "       185.35100913, 143.29850295, 105.84619413, 148.8682201 ,\n",
       "       155.16625521, 174.09571911, 226.25021889, 178.21125904,\n",
       "       184.50509779, 169.8199762 , 156.40299403, 143.51112581,\n",
       "       145.03247773, 167.05771753, 195.35221179, 172.12530531,\n",
       "       159.22144944, 173.59457534, 103.48920905, 154.53578331,\n",
       "       120.83938998, 171.67567384, 200.0376008 , 112.58915363,\n",
       "       142.13355782, 112.30220786, 162.87528931, 189.7593064 ,\n",
       "       102.64999503, 180.26490996, 206.89954192, 194.64262459,\n",
       "       151.2373491 , 184.59960378, 172.50723863, 144.68092859,\n",
       "       173.83195951, 200.98046586, 181.61529043, 197.40510566,\n",
       "       151.19892385, 168.57363762, 176.69844829, 150.03105882,\n",
       "       162.73762203, 128.59243138, 164.63300075, 189.40301576,\n",
       "       144.13909514, 143.84894466, 118.76278755, 184.66847102,\n",
       "       118.51133721, 201.71616302, 156.04536726, 177.25444763,\n",
       "       152.17975325, 111.62859653, 108.15814254, 203.74708879,\n",
       "       196.78301156, 182.33068396, 118.54838955, 119.97444122,\n",
       "       202.83830691, 118.06136647, 162.08596727, 131.09421008,\n",
       "       161.69324639, 184.66687768, 136.88019516, 151.7563238 ,\n",
       "       161.26464514, 129.22956174, 161.8637682 , 146.03771125,\n",
       "       173.61183416, 166.27677402, 183.61341115, 108.00793823,\n",
       "       153.57701446, 122.61608795, 156.40447341, 140.01733464,\n",
       "       134.00392433, 162.15013962, 132.40578942, 166.47378646,\n",
       "       126.30606597, 160.64878106, 153.99589087, 162.62437321,\n",
       "       123.54444457, 117.30484896, 179.17987561, 174.21970516,\n",
       "       157.9533162 , 190.51096388, 166.89088596, 185.47841175,\n",
       "       170.88763611, 145.09632994, 150.72148775, 162.68491932,\n",
       "       156.08695549, 119.85974389, 129.69223579, 202.99358679,\n",
       "       181.9378048 , 177.86484527, 129.94491734, 137.9154863 ,\n",
       "       110.10734381, 139.04612798, 145.37420945, 138.79834949,\n",
       "       116.12255183, 185.57444639, 124.58932503, 132.83561865,\n",
       "       140.52623957, 140.82622629, 195.10958504, 145.21817258,\n",
       "       160.88264983, 160.36435097, 188.39831902, 148.10523173,\n",
       "       168.95656773, 112.57245944, 154.76834429, 180.22896942,\n",
       "       194.01477888, 142.75669082, 122.69161946, 124.12456011,\n",
       "       162.59203378, 125.89344947, 153.25008727, 118.6045152 ,\n",
       "       191.89215467, 198.57810972, 198.84156263, 217.93532631,\n",
       "       175.18525265, 177.3044942 , 211.3671262 , 127.68532011,\n",
       "       223.89214019, 131.52666204, 133.43923451, 128.48372519,\n",
       "       127.33535826, 136.28397475, 215.50964723, 102.93612436,\n",
       "       147.9018928 , 148.10194622, 105.77816454, 158.89510443,\n",
       "       198.31221475, 137.89700079, 170.0883712 , 153.39338244,\n",
       "       150.70492632, 177.12317078, 149.72053998, 153.02584891,\n",
       "       181.78276489, 125.2449898 , 138.78966063, 140.26286143,\n",
       "       166.7874249 , 124.75409923, 149.61118982, 113.92001376,\n",
       "       146.85782021, 162.89385687, 126.05916337, 160.63351283,\n",
       "       128.27933663, 192.21526737, 193.03482465, 178.97441937,\n",
       "       127.22033293, 175.34043041, 121.2131353 , 173.28183466,\n",
       "       113.85690691, 131.57969143, 130.10948114, 141.2753343 ,\n",
       "       194.17403755, 139.64803807, 176.74406934, 190.28505705,\n",
       "       133.87443282, 143.04155407, 142.70671169, 148.81532161,\n",
       "       118.45156035, 162.223224  , 175.09760549, 172.32313618,\n",
       "       134.17286538, 191.41953702, 166.28615497, 142.27911795,\n",
       "       180.89463942, 148.88363399, 159.97807051, 164.93160983,\n",
       "       175.27426031, 203.71180029, 216.94019739, 188.60145866,\n",
       "       175.222051  , 197.8402562 , 158.76896769, 199.20449792,\n",
       "       178.80505455, 127.66033109, 160.23472965, 131.98886602,\n",
       "       212.56039558, 160.58995008, 117.73551448, 120.74676992,\n",
       "       209.57832806, 152.12051753, 134.36171114, 162.66550212,\n",
       "       141.27440266, 171.50612493, 157.13370827, 146.91356481,\n",
       "       150.93836771, 152.27808807, 179.25081985, 142.22266083,\n",
       "       143.18187531, 113.63955326, 199.60983241, 121.49939334,\n",
       "       119.61398555, 169.0386476 , 193.23984077, 141.48436959,\n",
       "       133.05118712, 187.98726867,  97.50258473, 161.20218408,\n",
       "       166.46392782, 131.64622855, 197.41455884, 150.07469943,\n",
       "       155.61638497, 147.75329187, 227.32730568, 230.41588052,\n",
       "       179.50508543, 166.83009498, 113.38162259, 185.03930388,\n",
       "       141.72882028, 138.05516356, 139.45706017, 162.97377114,\n",
       "       193.65083422, 161.10871219, 161.44555176, 126.44190422,\n",
       "       151.0505882 , 114.45663965, 206.7007671 , 137.73072715,\n",
       "       149.42745169, 140.40115997, 129.43021814, 129.46452901,\n",
       "       153.24257319, 141.58283385, 211.37146296, 100.7719021 ,\n",
       "       130.95421668, 124.26691169, 199.10464397, 163.1403485 ,\n",
       "       114.60763015, 162.21430631, 172.26146423, 175.19466188,\n",
       "       163.95742034, 123.65211529, 145.26538255, 209.36059592,\n",
       "       169.00845944, 214.07211931, 105.46099008, 175.85329979,\n",
       "       152.94107758, 159.36279024, 162.1416291 , 161.73345764,\n",
       "       190.43034515, 143.346628  , 172.15437913, 160.91420706,\n",
       "       178.94826076, 167.46302826, 138.16493669, 111.07325977,\n",
       "       130.70843445, 175.03581211, 196.99033556, 143.71340854,\n",
       "       164.93109529, 131.14536008, 151.68547896, 143.55082913,\n",
       "       208.97058328, 133.58872683, 128.34491031, 138.35829756,\n",
       "       191.29893416, 115.8057975 , 142.12928378, 133.52803869,\n",
       "       107.21255281, 171.78035431, 141.67294987, 135.17339143,\n",
       "       181.99216371, 123.06870677])"
      ]
     },
     "execution_count": 26,
     "metadata": {},
     "output_type": "execute_result"
    }
   ],
   "source": [
    "scores[\"estimator\"][1].predict(X)"
   ]
  },
  {
   "cell_type": "code",
   "execution_count": 27,
   "id": "e612a557",
   "metadata": {},
   "outputs": [
    {
     "data": {
      "text/plain": [
       "{'fit_time': array([0.00071597, 0.0006187 , 0.0006237 , 0.00060463, 0.00060773]),\n",
       " 'score_time': array([0.00066829, 0.00062847, 0.00062561, 0.00062633, 0.00062919]),\n",
       " 'estimator': [Lasso(), Lasso(), Lasso(), Lasso(), Lasso()],\n",
       " 'test_r2': array([0.35280376, 0.37656969, 0.35072477, 0.29097008, 0.3468679 ]),\n",
       " 'train_r2': array([0.36792736, 0.35382342, 0.35195324, 0.37854664, 0.34732403]),\n",
       " 'test_neg_mean_squared_error': array([-3367.69481873, -3489.99166356, -3926.62532842, -4576.78631641,\n",
       "        -4054.99821162]),\n",
       " 'train_neg_mean_squared_error': array([-3855.43158763, -3879.43103512, -3814.09390328, -3604.01627855,\n",
       "        -3819.89586116])}"
      ]
     },
     "execution_count": 27,
     "metadata": {},
     "output_type": "execute_result"
    }
   ],
   "source": [
    "scores"
   ]
  },
  {
   "cell_type": "code",
   "execution_count": null,
   "id": "553a0e65",
   "metadata": {},
   "outputs": [],
   "source": [
    "Parallel(n_jobs=self.n_jobs, verbose=self.verbose)(\n",
    "            delayed(_fit_binary)(\n",
    "                self.estimator,\n",
    "                X,\n",
    "                column,\n",
    "                classes=[\n",
    "                    \"not %s\" % self.label_binarizer_.classes_[i],\n",
    "                    self.label_binarizer_.classes_[i],\n",
    "                ],\n",
    "            )\n",
    "            for i, column in enumerate(columns)\n",
    "        )"
   ]
  },
  {
   "cell_type": "code",
   "execution_count": 18,
   "id": "89bfbc08",
   "metadata": {},
   "outputs": [],
   "source": [
    "from sklearn.metrics import accuracy_score\n",
    "from sklearn.metrics import make_scorer\n",
    "from sklearn import datasets\n",
    "from sklearn.linear_model import LogisticRegression\n",
    "scoring = {'accuracy': make_scorer(accuracy_score),\n",
    "           'prec': 'precision', \"optimizing_metric\": \"roc_auc\"}\n",
    "\n",
    "from sklearn.model_selection import cross_validate\n",
    "from sklearn.metrics import confusion_matrix\n",
    "# A sample toy binary classification dataset\n",
    "X, y = datasets.make_classification(n_classes=2, random_state=0)\n",
    "svm = LogisticRegression(random_state=0)\n",
    "svm.fit(X, y)\n",
    "\n",
    "cv_results = cross_validate(svm, X, y, cv=5,\n",
    "                            scoring=scoring)\n"
   ]
  },
  {
   "cell_type": "code",
   "execution_count": 8,
   "id": "49f734e0",
   "metadata": {},
   "outputs": [
    {
     "data": {
      "text/plain": [
       "{'fit_time': array([0.0038743 , 0.00544667, 0.00362754, 0.00427985, 0.00380373]),\n",
       " 'score_time': array([0.729918  , 0.00244761, 0.00238895, 0.00236964, 0.00239539]),\n",
       " 'test_accuracy': array([0.75, 0.9 , 0.85, 0.65, 0.9 ]),\n",
       " 'test_prec': array([0.69230769, 0.9       , 0.88888889, 0.63636364, 1.        ]),\n",
       " 'test_optimizing_metric': array([0.88, 0.95, 0.93, 0.8 , 0.94])}"
      ]
     },
     "execution_count": 8,
     "metadata": {},
     "output_type": "execute_result"
    }
   ],
   "source": [
    "cv_results"
   ]
  },
  {
   "cell_type": "code",
   "execution_count": 10,
   "id": "7c904600",
   "metadata": {},
   "outputs": [
    {
     "data": {
      "text/plain": [
       "True"
      ]
     },
     "execution_count": 10,
     "metadata": {},
     "output_type": "execute_result"
    }
   ],
   "source": [
    "\"ada\".startswith(\"ad\")"
   ]
  },
  {
   "cell_type": "code",
   "execution_count": 11,
   "id": "36615444",
   "metadata": {},
   "outputs": [
    {
     "data": {
      "text/plain": [
       "'optjkl'"
      ]
     },
     "execution_count": 11,
     "metadata": {},
     "output_type": "execute_result"
    }
   ],
   "source": [
    "\"test_optjkl\"[5:]"
   ]
  },
  {
   "cell_type": "code",
   "execution_count": 23,
   "id": "6a94fdcd",
   "metadata": {},
   "outputs": [],
   "source": [
    "from sklearn.metrics._scorer import _MultimetricScorer, _check_multimetric_scoring"
   ]
  },
  {
   "cell_type": "code",
   "execution_count": 24,
   "id": "66b5f0d8",
   "metadata": {},
   "outputs": [],
   "source": [
    "scoring = _check_multimetric_scoring(svm, scoring)\n",
    "\n",
    "scorer = _MultimetricScorer(**scoring)"
   ]
  },
  {
   "cell_type": "code",
   "execution_count": 25,
   "id": "bd15348b",
   "metadata": {},
   "outputs": [
    {
     "data": {
      "text/plain": [
       "{'accuracy': 0.94, 'prec': 0.94, 'optimizing_metric': 0.9872000000000001}"
      ]
     },
     "execution_count": 25,
     "metadata": {},
     "output_type": "execute_result"
    }
   ],
   "source": [
    "scorer(svm, X, y)"
   ]
  },
  {
   "cell_type": "code",
   "execution_count": null,
   "id": "b077ad03",
   "metadata": {},
   "outputs": [],
   "source": []
  }
 ],
 "metadata": {
  "kernelspec": {
   "display_name": "Python 3 (ipykernel)",
   "language": "python",
   "name": "python3"
  },
  "language_info": {
   "codemirror_mode": {
    "name": "ipython",
    "version": 3
   },
   "file_extension": ".py",
   "mimetype": "text/x-python",
   "name": "python",
   "nbconvert_exporter": "python",
   "pygments_lexer": "ipython3",
   "version": "3.10.6"
  }
 },
 "nbformat": 4,
 "nbformat_minor": 5
}
