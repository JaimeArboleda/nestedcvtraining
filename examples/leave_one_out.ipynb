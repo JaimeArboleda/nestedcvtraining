{
 "cells": [
  {
   "cell_type": "code",
   "execution_count": 1,
   "id": "b6b76b1f",
   "metadata": {},
   "outputs": [],
   "source": [
    "import sys\n",
    "sys.path.append('..')\n",
    "import numpy as np, pandas as pd\n",
    "from sklearn.decomposition import PCA\n",
    "from sklearn.metrics import roc_auc_score, make_scorer\n",
    "from sklearn.feature_selection import SelectKBest, mutual_info_classif\n",
    "from skopt.space import Real, Integer, Categorical\n",
    "from sklearn.ensemble import RandomForestClassifier\n",
    "from sklearn.linear_model import LogisticRegression\n",
    "from imblearn.pipeline import Pipeline as ImbPipeline\n",
    "from sklearn.pipeline import Pipeline as SkPipeline\n",
    "from sklearn.preprocessing import StandardScaler\n",
    "from imblearn.over_sampling import SMOTE\n",
    "from nestedcvtraining.api import find_best_model\n",
    "from nestedcvtraining.switch_case import SwitchCase\n",
    "from nestedcvtraining.under_sampling_classifier import UnderSamplingClassifier\n",
    "from skopt import gbrt_minimize\n",
    "from sklearn.metrics import log_loss"
   ]
  },
  {
   "cell_type": "code",
   "execution_count": 2,
   "id": "dbfdaaa9",
   "metadata": {},
   "outputs": [],
   "source": [
    "from sklearn.datasets import make_classification\n",
    "X, y = make_classification(\n",
    "    n_samples=50,\n",
    "    n_features=20, \n",
    "    n_redundant=5, \n",
    "    n_informative=5, \n",
    "    n_classes=2, \n",
    "    n_clusters_per_class=3,\n",
    "    flip_y=0.05,\n",
    "    class_sep=0.7,\n",
    "    weights=[0.8, 0.2],\n",
    "    random_state=42\n",
    ")"
   ]
  },
  {
   "cell_type": "code",
   "execution_count": 3,
   "id": "a294cccc",
   "metadata": {},
   "outputs": [
    {
     "data": {
      "text/plain": [
       "Counter({0: 36, 1: 14})"
      ]
     },
     "execution_count": 3,
     "metadata": {},
     "output_type": "execute_result"
    }
   ],
   "source": [
    "from collections import Counter\n",
    "Counter(y)"
   ]
  },
  {
   "cell_type": "code",
   "execution_count": 4,
   "id": "06e6beaa",
   "metadata": {},
   "outputs": [],
   "source": [
    "resampler = SwitchCase(\n",
    "    cases=[\n",
    "        (\n",
    "            \"resampler_1\",\n",
    "            SMOTE(k_neighbors=3)\n",
    "        ),\n",
    "        (\n",
    "            \"resampler_2\",\n",
    "            \"passthrough\"\n",
    "        )\n",
    "    ],\n",
    "    switch=\"resampler_1\"\n",
    ")\n",
    "\n",
    "preprocessor = SwitchCase(\n",
    "    cases=[\n",
    "        (\n",
    "            \"prep_1\",\n",
    "            SkPipeline([\n",
    "                (\"scale\", StandardScaler()), \n",
    "                (\"reduce_dims\", PCA(n_components=5))\n",
    "            ])\n",
    "        ),\n",
    "        (\n",
    "            \"prep_2\",\n",
    "            SkPipeline([\n",
    "                (\"scale\", StandardScaler()), \n",
    "                (\"reduce_dims\", SelectKBest(mutual_info_classif, k=5)),\n",
    "            ])\n",
    "        ),\n",
    "        (\n",
    "            \"prep_3\",\n",
    "            \"passthrough\"\n",
    "        )\n",
    "    ],\n",
    "    switch=\"prep_1\"\n",
    ")\n",
    "\n",
    "model = SwitchCase(\n",
    "    cases=[\n",
    "        (\n",
    "            \"model_1\",\n",
    "            LogisticRegression()\n",
    "        ),\n",
    "        (\n",
    "            \"model_2\",\n",
    "            RandomForestClassifier()\n",
    "        )\n",
    "    ],\n",
    "    switch=\"model_1\"\n",
    ")\n",
    "\n",
    "clf = ImbPipeline(\n",
    "    [(\"resampler\", resampler), (\"preprocessor\", preprocessor), (\"model\", model)]\n",
    ")\n",
    "\n",
    "search_space= [\n",
    "    Categorical([\"resampler_1\", \"resampler_2\"], name=\"resampler__switch\"),\n",
    "    Categorical([\"prep_1\", \"prep_2\", \"prep_3\"], name=\"preprocessor__switch\"),\n",
    "    Categorical([\"model_1\", \"model_2\"], name=\"model__switch\"),\n",
    "    Categorical([\"minority\", \"all\"], name=\"resampler__resampler_1__sampling_strategy\"),\n",
    "    Integer(5, 15, name=\"model__model_2__max_depth\")\n",
    "]\n"
   ]
  },
  {
   "cell_type": "code",
   "execution_count": null,
   "id": "3dc1740a",
   "metadata": {},
   "outputs": [
    {
     "name": "stdout",
     "output_type": "stream",
     "text": [
      "Looping over outer folds\n",
      "Looping over outer folds\n",
      "Looping over outer folds\n"
     ]
    }
   ],
   "source": [
    "best_model, best_params, report = find_best_model(\n",
    "    X=X,\n",
    "    y=y,\n",
    "    model=clf,\n",
    "    search_space=search_space,\n",
    "    verbose=False,\n",
    "    k_inner=49,\n",
    "    k_outer=50,\n",
    "    n_initial_points=10,\n",
    "    n_calls=10,\n",
    "    calibrate=\"only_best\",\n",
    "    calibrate_params={\"method\": \"isotonic\"},\n",
    "    optimizing_metric=make_scorer(log_loss, greater_is_better=False, needs_proba=True, labels=[0, 1]),\n",
    "    other_metrics={\"acc\": \"accuracy\"},\n",
    "    skopt_func=gbrt_minimize\n",
    ")"
   ]
  },
  {
   "cell_type": "code",
   "execution_count": 15,
   "id": "15661239",
   "metadata": {},
   "outputs": [],
   "source": [
    "neg_log_loss = make_scorer(log_loss, greater_is_better=False, needs_proba=True)"
   ]
  },
  {
   "cell_type": "code",
   "execution_count": 7,
   "id": "723496ef",
   "metadata": {},
   "outputs": [],
   "source": []
  },
  {
   "cell_type": "code",
   "execution_count": 17,
   "id": "2fe44068",
   "metadata": {},
   "outputs": [
    {
     "data": {
      "text/plain": [
       "0.21616187468057912"
      ]
     },
     "execution_count": 17,
     "metadata": {},
     "output_type": "execute_result"
    }
   ],
   "source": [
    "log_loss([\"spam\", \"ham\", \"ham\", \"spam\"],\n",
    "         [[.1, .9], [.9, .1], [.8, .2], [.35, .65]])"
   ]
  },
  {
   "cell_type": "code",
   "execution_count": 16,
   "id": "b86d6b0c",
   "metadata": {},
   "outputs": [
    {
     "ename": "TypeError",
     "evalue": "__call__() missing 1 required positional argument: 'y_true'",
     "output_type": "error",
     "traceback": [
      "\u001b[0;31m---------------------------------------------------------------------------\u001b[0m",
      "\u001b[0;31mTypeError\u001b[0m                                 Traceback (most recent call last)",
      "Cell \u001b[0;32mIn[16], line 1\u001b[0m\n\u001b[0;32m----> 1\u001b[0m \u001b[43mneg_log_loss\u001b[49m\u001b[43m(\u001b[49m\u001b[43m[\u001b[49m\u001b[38;5;124;43m\"\u001b[39;49m\u001b[38;5;124;43mspam\u001b[39;49m\u001b[38;5;124;43m\"\u001b[39;49m\u001b[43m,\u001b[49m\u001b[43m \u001b[49m\u001b[38;5;124;43m\"\u001b[39;49m\u001b[38;5;124;43mham\u001b[39;49m\u001b[38;5;124;43m\"\u001b[39;49m\u001b[43m,\u001b[49m\u001b[43m \u001b[49m\u001b[38;5;124;43m\"\u001b[39;49m\u001b[38;5;124;43mham\u001b[39;49m\u001b[38;5;124;43m\"\u001b[39;49m\u001b[43m,\u001b[49m\u001b[43m \u001b[49m\u001b[38;5;124;43m\"\u001b[39;49m\u001b[38;5;124;43mspam\u001b[39;49m\u001b[38;5;124;43m\"\u001b[39;49m\u001b[43m]\u001b[49m\u001b[43m,\u001b[49m\n\u001b[1;32m      2\u001b[0m \u001b[43m         \u001b[49m\u001b[43m[\u001b[49m\u001b[43m[\u001b[49m\u001b[38;5;241;43m.1\u001b[39;49m\u001b[43m,\u001b[49m\u001b[43m \u001b[49m\u001b[38;5;241;43m.9\u001b[39;49m\u001b[43m]\u001b[49m\u001b[43m,\u001b[49m\u001b[43m \u001b[49m\u001b[43m[\u001b[49m\u001b[38;5;241;43m.9\u001b[39;49m\u001b[43m,\u001b[49m\u001b[43m \u001b[49m\u001b[38;5;241;43m.1\u001b[39;49m\u001b[43m]\u001b[49m\u001b[43m,\u001b[49m\u001b[43m \u001b[49m\u001b[43m[\u001b[49m\u001b[38;5;241;43m.8\u001b[39;49m\u001b[43m,\u001b[49m\u001b[43m \u001b[49m\u001b[38;5;241;43m.2\u001b[39;49m\u001b[43m]\u001b[49m\u001b[43m,\u001b[49m\u001b[43m \u001b[49m\u001b[43m[\u001b[49m\u001b[38;5;241;43m.35\u001b[39;49m\u001b[43m,\u001b[49m\u001b[43m \u001b[49m\u001b[38;5;241;43m.65\u001b[39;49m\u001b[43m]\u001b[49m\u001b[43m]\u001b[49m\u001b[43m)\u001b[49m\n",
      "\u001b[0;31mTypeError\u001b[0m: __call__() missing 1 required positional argument: 'y_true'"
     ]
    }
   ],
   "source": [
    "neg_log_loss([\"spam\", \"ham\", \"ham\", \"spam\"],\n",
    "         [[.1, .9], [.9, .1], [.8, .2], [.35, .65]])"
   ]
  },
  {
   "cell_type": "code",
   "execution_count": 14,
   "id": "378a8129",
   "metadata": {},
   "outputs": [
    {
     "data": {
      "text/plain": [
       "make_scorer(log_loss)"
      ]
     },
     "execution_count": 14,
     "metadata": {},
     "output_type": "execute_result"
    }
   ],
   "source": [
    "neg_log_loss"
   ]
  },
  {
   "cell_type": "code",
   "execution_count": 11,
   "id": "ab7ac6a3",
   "metadata": {},
   "outputs": [],
   "source": [
    "_, y_idx, y_inv = np.unique(y, return_index=True, return_inverse=True)\n",
    "# y_inv encodes y according to lexicographic order. We invert y_idx to\n",
    "# map the classes so that they are encoded by order of appearance:\n",
    "# 0 represents the first label appearing in y, 1 the second, etc.\n",
    "_, class_perm = np.unique(y_idx, return_inverse=True)\n",
    "y_encoded = class_perm[y_inv]\n",
    "\n",
    "n_classes = len(y_idx)\n",
    "y_counts = np.bincount(y_encoded)\n",
    "min_groups = np.min(y_counts)"
   ]
  },
  {
   "cell_type": "code",
   "execution_count": 12,
   "id": "c4d5b67e",
   "metadata": {},
   "outputs": [
    {
     "data": {
      "text/plain": [
       "array([36, 14])"
      ]
     },
     "execution_count": 12,
     "metadata": {},
     "output_type": "execute_result"
    }
   ],
   "source": [
    "y_counts"
   ]
  },
  {
   "cell_type": "code",
   "execution_count": 14,
   "id": "f9fd777b",
   "metadata": {},
   "outputs": [
    {
     "data": {
      "text/plain": [
       "True"
      ]
     },
     "execution_count": 14,
     "metadata": {},
     "output_type": "execute_result"
    }
   ],
   "source": [
    "np.all(50 > y_counts)"
   ]
  },
  {
   "cell_type": "code",
   "execution_count": 15,
   "id": "0a7b94d4",
   "metadata": {},
   "outputs": [
    {
     "data": {
      "text/plain": [
       "array([36, 14])"
      ]
     },
     "execution_count": 15,
     "metadata": {},
     "output_type": "execute_result"
    }
   ],
   "source": [
    "np.bincount(y)"
   ]
  },
  {
   "cell_type": "code",
   "execution_count": null,
   "id": "fb4cb1fb",
   "metadata": {},
   "outputs": [],
   "source": []
  }
 ],
 "metadata": {
  "kernelspec": {
   "display_name": "Python 3 (ipykernel)",
   "language": "python",
   "name": "python3"
  },
  "language_info": {
   "codemirror_mode": {
    "name": "ipython",
    "version": 3
   },
   "file_extension": ".py",
   "mimetype": "text/x-python",
   "name": "python",
   "nbconvert_exporter": "python",
   "pygments_lexer": "ipython3",
   "version": "3.8.15"
  }
 },
 "nbformat": 4,
 "nbformat_minor": 5
}
