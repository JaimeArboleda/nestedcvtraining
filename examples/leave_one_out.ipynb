{
 "cells": [
  {
   "cell_type": "code",
   "execution_count": 1,
   "id": "b6b76b1f",
   "metadata": {},
   "outputs": [],
   "source": [
    "import sys\n",
    "sys.path.append('..')\n",
    "import numpy as np, pandas as pd\n",
    "from sklearn.decomposition import PCA\n",
    "from sklearn.metrics import roc_auc_score, make_scorer\n",
    "from sklearn.feature_selection import SelectKBest, mutual_info_classif\n",
    "from skopt.space import Real, Integer, Categorical\n",
    "from sklearn.ensemble import RandomForestClassifier\n",
    "from sklearn.linear_model import LogisticRegression\n",
    "from imblearn.pipeline import Pipeline as ImbPipeline\n",
    "from sklearn.pipeline import Pipeline as SkPipeline\n",
    "from sklearn.preprocessing import StandardScaler\n",
    "from imblearn.over_sampling import SMOTE\n",
    "from nestedcvtraining.api import find_best_model\n",
    "from nestedcvtraining.switch_case import SwitchCase\n",
    "from nestedcvtraining.under_sampling_classifier import UnderSamplingClassifier\n",
    "from skopt import gbrt_minimize\n",
    "from sklearn.metrics import log_loss"
   ]
  },
  {
   "cell_type": "code",
   "execution_count": 6,
   "id": "dbfdaaa9",
   "metadata": {},
   "outputs": [],
   "source": [
    "from sklearn.datasets import make_classification\n",
    "X, y = make_classification(\n",
    "    n_samples=40,\n",
    "    n_features=20, \n",
    "    n_redundant=5, \n",
    "    n_informative=5, \n",
    "    n_classes=2, \n",
    "    n_clusters_per_class=3,\n",
    "    flip_y=0.05,\n",
    "    class_sep=0.7,\n",
    "    weights=[0.8, 0.2],\n",
    "    random_state=42\n",
    ")"
   ]
  },
  {
   "cell_type": "code",
   "execution_count": 7,
   "id": "a294cccc",
   "metadata": {},
   "outputs": [
    {
     "data": {
      "text/plain": [
       "Counter({1: 9, 0: 31})"
      ]
     },
     "execution_count": 7,
     "metadata": {},
     "output_type": "execute_result"
    }
   ],
   "source": [
    "from collections import Counter\n",
    "Counter(y)"
   ]
  },
  {
   "cell_type": "code",
   "execution_count": 4,
   "id": "06e6beaa",
   "metadata": {},
   "outputs": [],
   "source": [
    "resampler = SwitchCase(\n",
    "    cases=[\n",
    "        (\n",
    "            \"resampler_1\",\n",
    "            SMOTE(k_neighbors=3)\n",
    "        ),\n",
    "        (\n",
    "            \"resampler_2\",\n",
    "            \"passthrough\"\n",
    "        )\n",
    "    ],\n",
    "    switch=\"resampler_1\"\n",
    ")\n",
    "\n",
    "preprocessor = SwitchCase(\n",
    "    cases=[\n",
    "        (\n",
    "            \"prep_1\",\n",
    "            SkPipeline([\n",
    "                (\"scale\", StandardScaler()), \n",
    "                (\"reduce_dims\", PCA(n_components=5))\n",
    "            ])\n",
    "        ),\n",
    "        (\n",
    "            \"prep_2\",\n",
    "            SkPipeline([\n",
    "                (\"scale\", StandardScaler()), \n",
    "                (\"reduce_dims\", SelectKBest(mutual_info_classif, k=5)),\n",
    "            ])\n",
    "        ),\n",
    "        (\n",
    "            \"prep_3\",\n",
    "            \"passthrough\"\n",
    "        )\n",
    "    ],\n",
    "    switch=\"prep_1\"\n",
    ")\n",
    "\n",
    "model = SwitchCase(\n",
    "    cases=[\n",
    "        (\n",
    "            \"model_1\",\n",
    "            LogisticRegression()\n",
    "        ),\n",
    "        (\n",
    "            \"model_2\",\n",
    "            RandomForestClassifier()\n",
    "        )\n",
    "    ],\n",
    "    switch=\"model_1\"\n",
    ")\n",
    "\n",
    "clf = ImbPipeline(\n",
    "    [(\"resampler\", resampler), (\"preprocessor\", preprocessor), (\"model\", model)]\n",
    ")\n",
    "\n",
    "search_space= [\n",
    "    Categorical([\"resampler_1\", \"resampler_2\"], name=\"resampler__switch\"),\n",
    "    Categorical([\"prep_1\", \"prep_2\", \"prep_3\"], name=\"preprocessor__switch\"),\n",
    "    Categorical([\"model_1\", \"model_2\"], name=\"model__switch\"),\n",
    "    Categorical([\"minority\", \"all\"], name=\"resampler__resampler_1__sampling_strategy\"),\n",
    "    Integer(5, 15, name=\"model__model_2__max_depth\")\n",
    "]\n"
   ]
  },
  {
   "cell_type": "code",
   "execution_count": 8,
   "id": "3dc1740a",
   "metadata": {},
   "outputs": [
    {
     "name": "stdout",
     "output_type": "stream",
     "text": [
      "Looping over 1 outer fold\n",
      "Looping over 3 outer fold\n",
      "Looping over 5 outer fold\n",
      "Looping over 7 outer fold\n",
      "Looping over 9 outer fold\n",
      "Looping over 11 outer fold\n",
      "Looping over 13 outer fold\n",
      "Looping over 15 outer fold\n",
      "Looping over 17 outer fold\n",
      "Looping over 19 outer fold\n",
      "Looping over 21 outer fold\n",
      "Looping over 23 outer fold\n",
      "Looping over 25 outer fold\n",
      "Looping over 27 outer fold\n",
      "Looping over 29 outer fold\n",
      "Looping over 31 outer fold\n",
      "Looping over 33 outer fold\n",
      "Looping over 35 outer fold\n",
      "Looping over 37 outer fold\n",
      "Looping over 39 outer fold\n"
     ]
    }
   ],
   "source": [
    "best_model, best_params, report = find_best_model(\n",
    "    X=X,\n",
    "    y=y,\n",
    "    model=clf,\n",
    "    search_space=search_space,\n",
    "    verbose=False,\n",
    "    k_inner=39,\n",
    "    k_outer=40,\n",
    "    skip_outer_folds=list(range(0, 40, 2)),\n",
    "    skip_inner_folds=list(range(0, 39, 2)),\n",
    "    n_initial_points=5,\n",
    "    n_calls=5,\n",
    "    calibrate=\"only_best\",\n",
    "    calibrate_params={\"method\": \"isotonic\"},\n",
    "    optimizing_metric=make_scorer(log_loss, greater_is_better=False, needs_proba=True, labels=[0, 1]),\n",
    "    other_metrics={\"acc\": \"accuracy\"},\n",
    "    skopt_func=gbrt_minimize\n",
    ")"
   ]
  },
  {
   "cell_type": "code",
   "execution_count": 9,
   "id": "15661239",
   "metadata": {},
   "outputs": [
    {
     "data": {
      "text/plain": [
       "{'acc': {'mean': 0.7, 'sd': 0.45825756949558394, 'min': 0.0, 'max': 1.0},\n",
       " 'optimizing_metric': {'mean': -0.7358888637090166,\n",
       "  'sd': 0.7540255045514256,\n",
       "  'min': -2.4849066497880004,\n",
       "  'max': -0.04144985384594088}}"
      ]
     },
     "execution_count": 9,
     "metadata": {},
     "output_type": "execute_result"
    }
   ],
   "source": [
    "report.get_outer_metrics_report()"
   ]
  },
  {
   "cell_type": "code",
   "execution_count": 14,
   "id": "723496ef",
   "metadata": {},
   "outputs": [
    {
     "name": "stdout",
     "output_type": "stream",
     "text": [
      "0.605189393939394\n",
      "0.12095238095238096\n",
      "0.8428571428571429\n",
      "0.71\n",
      "0.6200000000000001\n",
      "0.9099999999999999\n",
      "0.5814868111339213\n",
      "0.37\n",
      "0.8166666666666667\n",
      "0.13999999999999999\n",
      "0.95\n",
      "0.6785185185185185\n",
      "0.9199999999999999\n",
      "0.5726018588421768\n",
      "0.3371428571428571\n",
      "0.14666666666666667\n",
      "0.08333333333333333\n",
      "0.9319607843137254\n",
      "0.5333333333333334\n",
      "0.9593974442272666\n"
     ]
    }
   ],
   "source": [
    "# Let's print the predicted probability of the true class for each example that was left out during the outer loop \n",
    "for model, test_idxs in report.iter_models_test_idxs():\n",
    "    y_test_proba = model.predict_proba(X[test_idxs])\n",
    "    y_true = y[test_idxs]\n",
    "    print(y_test_proba[0, y_true[0]])"
   ]
  },
  {
   "cell_type": "code",
   "execution_count": null,
   "id": "03def497",
   "metadata": {},
   "outputs": [],
   "source": []
  }
 ],
 "metadata": {
  "kernelspec": {
   "display_name": "Python 3 (ipykernel)",
   "language": "python",
   "name": "python3"
  },
  "language_info": {
   "codemirror_mode": {
    "name": "ipython",
    "version": 3
   },
   "file_extension": ".py",
   "mimetype": "text/x-python",
   "name": "python",
   "nbconvert_exporter": "python",
   "pygments_lexer": "ipython3",
   "version": "3.8.15"
  }
 },
 "nbformat": 4,
 "nbformat_minor": 5
}
